{
  "nbformat": 4,
  "nbformat_minor": 0,
  "metadata": {
    "colab": {
      "provenance": [],
      "toc_visible": true,
      "collapsed_sections": [
        "J1fN3NGjDj3M"
      ]
    },
    "kernelspec": {
      "name": "python3",
      "display_name": "Python 3"
    },
    "language_info": {
      "name": "python"
    }
  },
  "cells": [
    {
      "cell_type": "markdown",
      "source": [
        "# LSTM Forecasting model\n",
        "**Objective:**We want to forecast future values for feature **B.RTD1**.\n",
        "\n",
        "**Data set:** RICO1_Dataset.hdf\n",
        "\n",
        "  - **Description:** .....\n",
        "\n",
        "\n",
        "**Features:**\n",
        "\n",
        "Index| Features|Format|Description\n",
        "-----|---------------|-------------------|-----------------------\n",
        "1|_time|01.01.2009 00:10:00+00:00|Date-time reference\n",
        "2|B.ASTRHT2.H|25.400000|Relative humidity of the ventilation air\n",
        "3|B.ASTRHT2.S|25.400000|Air speed\n",
        "4|B.ASTRHT2.T|25.4|Temperature\n",
        "5|B.RTD1|25.400000|Thermometer centre of the room 10 cm from the floor\n",
        "6|B.RTD2|25.45|Thermometer centre of the room 60 cm from the floor\n",
        "7|B.RTD3|25.30|Thermometer centre of the room 100 cm from the floor\n",
        "8|B.RTD6|25.30|Glober thermometer 160 from the floor\n",
        "9-13|BT.AOC|XXX|Thermocouple in air above the outer cell wall (C: ceiling, F: floor, N,W,E : North, West, East)\n",
        "14-16|BT.SIC_2X|XXX|Thermocouple on the internal cell, celing 25,26,27 respectively 70cm from the door, middle of the room, 70 cm from the window.\n",
        "17-19|BT.SIE_7|XXX|Thermocouple on the internal cell, east wall  7,8,9 same as SIC. 10 middle of the room below the ceiling 11 above the floor.\n",
        "20-22|BT.SIF_25|XXX|Thermocouple on the internal cell, floor 25,26,27 respectively 70cm from the door, middle of the room, 70 cm from the window.\n",
        "23|BT.SIN_17|XXX|Thermocouple on the internal cell beside the door.\n",
        "24-26|BT.SIW_X|XXX|Thermocouple on the internal cell, west wall  7,8,9 same as SIC. 10 middle of the room below the ceiling 11 above the floor.\n",
        "25-29|BT.SOX|XXX|Thermocouple on the sheilded surface of the the outer cell wall (C: ceiling, F: floor, N,W,E : North, West, East)\n",
        "26|EC3|XXXX|Electrical heater\n",
        "27|JP40_head|XXXX|Head value for main cold water pump\n",
        "28|JP40_setpoint|XXXX|Set point for main cold water pump\n",
        "29|JP40_volumeFlow|XXXX|Volume flow in main cold water pump\n",
        "30|JP410_head|XXXX|Head value for hot water pump in cell B\n",
        "31|JP410_setpoint|XXXX|Set point for hot water pump in cell B\n",
        "32|JP410_volumeFlow|XXXX|Volume flow for hot water pump in cell B\n",
        "33|JP41_head|XXXX|Head value for main hot water pump\n",
        "34|JP41_setpoint|XXXX|Set point for main hot water pump\n",
        "35|JP41_volumeFlow|XXXX|Volume flow in main hot water pump\n",
        "37|JP44_head|XXXX|Head value for cold water pump in ventilation duct\n",
        "38|JP44_setpoint|XXXX|Set point for cold water pump in ventilation duct\n",
        "39|JP44_volumeFlow|XXXX|Volume flow for cold water pump in ventilation duct\n",
        "40|JP49_head|XXXX|Head value for cold water pump in cell B\n",
        "41|JP49_setpoint|XXXX|Set point for cold water pump in cell B\n",
        "42|JP49_volumeFlow|XXXX|Volume flow for cold water pump in cell B\n",
        "43|JV41|XXXX|EMPTY**\n",
        "44|JV42|XXXX|EMPTY**\n",
        "45|JV51|XXXX|EMPTY**\n",
        "47|RTD406A|XXXX|Ventilation heating/cooling downstream\n",
        "48|RTD410.T|XXXX|Ventilation heating/cooling upstream\n",
        "49|RTD417|XXXX|Fan coil temperature of cold water circuit in cell B (inlet)\n",
        "50|RTD420|XXXX|Temperature of hot water circuit in cell B on the radiator heating (inlet)\n",
        "51|RTD508|XXXX|Fan coil temperature of cold water circuit in cell B (outlet)\n",
        "52|RTD509|XXXX|Temperature of hot water circuit in cell B on the radiator heating (outlet)\n",
        "53|SB43|XXXX|Control for ventilation cooling\n",
        "54|SB46|XXXX|Control for fan coil\n",
        "55|SB47|XXXX|Control for the radiator heating\n",
        "57|SSR06|XXXX|Switch of the fancoil fan\n",
        "58-65|WS1_XXXX|XXXX|Features measured by the weather station\n",
        "66|O.SIM1|XXXX|Solar radiation on the roof slope\n",
        "67|O.SIM2|XXXX|Solar radiation on the vertical plane\n",
        "68|O.SIM3|XXXX|Solar radiation impinging the facade\n",
        "69-72|PID/XXX.setpoint|XXXX|Set point PID for each type of feature out of EC3, SB46, SB43, SB47***\n",
        "73-76|PID/XXX.enabled|XXXX| Enabled or not PID for each type of feature out of EC3, SB46, SB43, SB47***\n",
        "\n",
        "\n",
        "\n",
        "\n",
        "This project is divided into two main parts:\n",
        "1. Forecast on past values\n",
        "2. Forecast including other feature values\n",
        "\n",
        "The following code snippet applies to and is necessary for all code that will follow:"
      ],
      "metadata": {
        "id": "_zW6F7orsU05"
      }
    },
    {
      "cell_type": "code",
      "source": [
        "# Imports'\n",
        "import os\n",
        "import json\n",
        "import numpy as np\n",
        "import pandas as pd\n",
        "import seaborn as sns\n",
        "import tensorflow as tf\n",
        "from keras.layers import *\n",
        "from tensorflow import keras\n",
        "from datetime import datetime\n",
        "from google.colab import drive\n",
        "import matplotlib.pyplot as plt\n",
        "from keras.optimizers import Adam\n",
        "from keras.losses import MeanSquaredError\n",
        "from keras.callbacks import ModelCheckpoint\n",
        "from sklearn.metrics import mean_squared_error\n",
        "from keras.models import Sequential, load_model\n",
        "from sklearn.model_selection import train_test_split\n",
        "from sklearn.preprocessing import RobustScaler, MinMaxScaler\n",
        "from sklearn.feature_selection import mutual_info_regression\n",
        "\n",
        "# Mounting drive and declaration of path for images\n",
        "drive.mount('/content/drive', force_remount=True)\n",
        "save_path = '/content/drive/My Drive/TFG_Images'\n",
        "log_path = '/content/drive/My Drive/TFG_models/training_log.xlsx'\n",
        "\n",
        "def build_lstm_model(input_shape, lstm_layers, dense_layers, lstm_units, dense_units,\n",
        "                     activation='relu', dropout_rate=0.0, batch_normalization=False,\n",
        "                     compile_model=True):\n",
        "    \"\"\"\n",
        "    Build an LSTM model based on the provided configuration.\n",
        "    :param input_shape: Shape of the input data (tuple).\n",
        "    :param lstm_layers: Number of LSTM layers (list of booleans indicating return_sequences).\n",
        "    :param dense_layers: Number of Dense layers.\n",
        "    :param lstm_units: Number of units in each LSTM layer (list of integers).\n",
        "    :param dense_units: Number of units in each Dense layer (list of integers).\n",
        "    :param activation: Activation function for LSTM and Dense layers.\n",
        "    :param dropout_rate: Dropout rate for Dropout layers.\n",
        "    :param batch_normalization: Whether to use Batch Normalization.\n",
        "    :return: Keras model.\n",
        "    \"\"\"\n",
        "\n",
        "    model = Sequential()\n",
        "    model.add(InputLayer(input_shape))\n",
        "\n",
        "    # Adding LSTM layers\n",
        "    for i, units in enumerate(lstm_units):\n",
        "        return_sequences = lstm_layers[i] if i < len(lstm_layers) else False\n",
        "        model.add(LSTM(units, activation=activation, return_sequences=return_sequences))\n",
        "        if batch_normalization:\n",
        "            model.add(BatchNormalization())\n",
        "        if dropout_rate > 0:\n",
        "            model.add(Dropout(dropout_rate))\n",
        "\n",
        "    # Adding Dense layers\n",
        "    for units in dense_units:\n",
        "        model.add(Dense(units, activation=activation))\n",
        "\n",
        "    return model\n",
        "\n",
        "def plot_loss(phase, model_n, hist):\n",
        "  plt.plot(hist.history['loss'], label='Training Loss')\n",
        "  plt.plot(hist.history['val_loss'], label='Validation Loss')\n",
        "  plt.title(f'[{phase}] Model {model_n} -  Loss plot')\n",
        "  plt.xlabel('Epoch')\n",
        "  plt.ylabel('Loss')\n",
        "  plt.legend(loc='best')\n",
        "  # Save the figure\n",
        "  time = datetime.now().strftime('%d_%H%M')\n",
        "  plt.savefig(os.path.join(save_path, f'{phase}_Model{model_n}_Loss_Plot_{time}.jpeg'))\n",
        "  print(f'{phase} - Model {model_n} loss plot saved!')\n",
        "  plt.show()\n",
        "  plt.close()\n",
        "\n",
        "def fit_model(model, data, param_config, callback, val_split=None, model_n=None, val_data=None):\n",
        "  if val_split != None:\n",
        "    hist = model.fit(data[0],data[1], validation_split=val_split, epochs=param_config['epochs'], batch_size=param_config['batch_size'], callbacks=[callback])\n",
        "    #data[0]:X_train, [1]:y_train\n",
        "    if model.summary == model1.summary:\n",
        "      plot_loss(1,'1',hist)\n",
        "    elif model.summary == model2.summary:\n",
        "      plot_loss(1,'2',hist)\n",
        "  # Approach for phase 2 has validation data rather than validation split\n",
        "  else:\n",
        "    hist = model.fit(data[0],data[1], validation_data=val_data, epochs=param_config['epochs'], batch_size=param_config['batch_size'], callbacks=[callback])\n",
        "    if model.summary == modelO.summary:\n",
        "      plot_loss(3,'Opt',hist)\n",
        "    elif model.summary == modelA.summary:\n",
        "      plot_loss(1,'A',hist)\n",
        "    elif model.summary == modelB.summary:\n",
        "      plot_loss(2,'B',hist)\n",
        "    elif model.summary == modelC.summary:\n",
        "      plot_loss(2,'B',hist)\n",
        "\n",
        "\n",
        "def plot_prediction(df, train_result, phase, model_n):\n",
        "  # Plot the prediction loss\n",
        "  plt.plot(train_result['Predictions'], label='Prediction')\n",
        "  plt.plot(train_result['Actuals'], label='Original')\n",
        "  plt.title(f'[{phase}] Model {model_n} -  Prediction plot')\n",
        "  plt.xlabel('Time')\n",
        "  plt.ylabel('Temperature (C)')\n",
        "  plt.legend(loc='best')\n",
        "\n",
        "  # Save the figure\n",
        "  time = datetime.now().strftime('%d_%H%M')\n",
        "  plt.savefig(os.path.join(save_path, f'{phase}_Model{model_n}_Prediction_Plot_{time}FUNC.jpeg'))\n",
        "  print(f'{phase} - Model {model_n} prediction plot saved!')\n",
        "\n",
        "  plt.show()\n",
        "  plt.close()\n",
        "\n",
        "def predicting(df, model, X_train, y_train):\n",
        "  train_pred = model.predict(X_train)\n",
        "\n",
        "  if train_pred.ndim == 2 and train_pred.shape[1] != y_train.shape[1]:\n",
        "        print(f\"{train_pred.ndim}\\n {train_pred.shape[1]}\\n{y_train.shape[1]} \\n Reshaping train_pred to match y_train's second dimension\")\n",
        "        train_pred = train_pred.reshape(-1, y_train.shape[1])\n",
        "\n",
        "\n",
        "  train_pred = train_pred.flatten()\n",
        "  y_train = y_train.flatten()\n",
        "\n",
        "  # Ensure that train_pred and y_train have the same length\n",
        "  min_length = min(len(train_pred), len(y_train))\n",
        "  train_pred = train_pred[:min_length]\n",
        "  y_train = y_train[:min_length]\n",
        "\n",
        "  train_result = pd.DataFrame(data={'Predictions':train_pred, 'Actuals': y_train} )\n",
        "  train_result[['Predictions', 'Actuals']] = scaler.inverse_transform(train_result[['Predictions', 'Actuals']])\n",
        "\n",
        "  # Plotting predictions\n",
        "  if model.summary == model1.summary:\n",
        "    plot_prediction(df, train_result, 1,'1')\n",
        "  elif model.summary == model2.summary:\n",
        "    plot_prediction(df, train_result, 1,'2')\n",
        "  elif model.summary == modelO.summary:\n",
        "      plot_prediction(df, train_result, 3,'Opt')\n",
        "  elif model.summary == modelA.summary:\n",
        "    plot_prediction(df, train_result, 2,'A')\n",
        "  elif model.summary == modelB.summary:\n",
        "    plot_prediction(df, train_result, 2,'B')\n",
        "  elif model.summary == modelC.summary:\n",
        "    plot_prediction(df, train_result, 2,'C')\n",
        "\n",
        "\n",
        "  return train_result\n",
        "\n",
        "def evaluation(model, train_result, data):\n",
        "  scores = model.evaluate(data[0], data[1]) #data[0]:X_test, [1]:y_test\n",
        "  mse = mean_squared_error(train_result['Actuals'], train_result['Predictions'])\n",
        "\n",
        "  if model.summary == model1.summary:\n",
        "    print(f'Model 1 Results: \\n Loss: {scores} \\n MSE : {mse}')\n",
        "  elif model.summary == model2.summary:\n",
        "    print(f'Model 2 Results: \\n Loss: {scores} \\n MSE : {mse}')\n",
        "  elif model.summary == modelO.summary:\n",
        "    print(f'Model C Results: \\n Loss: {scores} \\n MSE : {mse}')\n",
        "  elif model.summary == modelA.summary:\n",
        "    print(f'Model A Results: \\n Loss: {scores} \\n MSE : {mse}')\n",
        "  elif model.summary == modelB.summary:\n",
        "    print(f'Model B Results: \\n Loss: {scores} \\n MSE : {mse}')\n",
        "  elif model.summary == modelC.summary:\n",
        "    print(f'Model C Results: \\n Loss: {scores} \\n MSE : {mse}')\n",
        "\n",
        "\n",
        "  return scores, mse\n"
      ],
      "metadata": {
        "colab": {
          "base_uri": "https://localhost:8080/"
        },
        "id": "heuh1oaYuy0g",
        "outputId": "37203d4d-2d80-45d9-e31d-ac811c6d8a15"
      },
      "execution_count": null,
      "outputs": [
        {
          "output_type": "stream",
          "name": "stdout",
          "text": [
            "Mounted at /content/drive\n"
          ]
        }
      ]
    },
    {
      "cell_type": "markdown",
      "source": [
        "# 1. Forecasting on past values"
      ],
      "metadata": {
        "id": "YqTrDgIatKom"
      }
    },
    {
      "cell_type": "markdown",
      "source": [
        "## 1.1 Initial data preparation\n",
        "\n",
        "We have decided to assemble data in intervals of 10 minutes using their mean as global value."
      ],
      "metadata": {
        "id": "4UrJm8-ZveoC"
      }
    },
    {
      "cell_type": "code",
      "source": [
        "# 1. Reading dataset\n",
        "df = pd.read_hdf('/content/drive/My Drive/TFG_models/RICO1_Dataset.hdf', key='all')\n",
        "\n",
        "# _time as index\n",
        "df['_time'] = pd.to_datetime(df['_time'])\n",
        "df.set_index('_time', inplace=True)\n",
        "\n",
        "# 2. Assembling data in 10 min intervals\n",
        "df = df.resample('10T').mean()\n",
        "df.index\n"
      ],
      "metadata": {
        "id": "SIoyfB6DtNvC",
        "colab": {
          "base_uri": "https://localhost:8080/"
        },
        "outputId": "000ae4a4-58b6-4097-c8b8-f40d65ed47e7"
      },
      "execution_count": null,
      "outputs": [
        {
          "output_type": "execute_result",
          "data": {
            "text/plain": [
              "DatetimeIndex(['2023-07-26 11:00:00+00:00', '2023-07-26 11:10:00+00:00',\n",
              "               '2023-07-26 11:20:00+00:00', '2023-07-26 11:30:00+00:00',\n",
              "               '2023-07-26 11:40:00+00:00', '2023-07-26 11:50:00+00:00',\n",
              "               '2023-07-26 12:00:00+00:00', '2023-07-26 12:10:00+00:00',\n",
              "               '2023-07-26 12:20:00+00:00', '2023-07-26 12:30:00+00:00',\n",
              "               ...\n",
              "               '2023-08-12 09:30:00+00:00', '2023-08-12 09:40:00+00:00',\n",
              "               '2023-08-12 09:50:00+00:00', '2023-08-12 10:00:00+00:00',\n",
              "               '2023-08-12 10:10:00+00:00', '2023-08-12 10:20:00+00:00',\n",
              "               '2023-08-12 10:30:00+00:00', '2023-08-12 10:40:00+00:00',\n",
              "               '2023-08-12 10:50:00+00:00', '2023-08-12 11:00:00+00:00'],\n",
              "              dtype='datetime64[ns, tzutc()]', name='_time', length=2449, freq='10T')"
            ]
          },
          "metadata": {},
          "execution_count": 3
        }
      ]
    },
    {
      "cell_type": "markdown",
      "source": [
        "## 1.2 Data prepreprocessing\n",
        "This process is crucial in forecasting models as LSTMs. It has a great influence on the model's performance. This section involves:\n",
        "1. Scaling\n",
        "2. Spliting data"
      ],
      "metadata": {
        "id": "eR6X-syxxRLL"
      }
    },
    {
      "cell_type": "markdown",
      "source": [
        "### 1.2.1 Scaling data\n",
        "We are implementing the MinMaxScaler as we are only dealing with 1 feature and therefore we don't have to look out for non-linear relationships between variables.\n",
        "Scaling the data will help us to ensure that there is no ..(?).."
      ],
      "metadata": {
        "id": "kpi764ti2xYT"
      }
    },
    {
      "cell_type": "code",
      "source": [
        "scaler = MinMaxScaler()\n",
        "temp = df['B.RTD1'].values.reshape(-1, 1)\n",
        "scaled_temp = scaler.fit_transform(temp)\n",
        "scaled_temp = pd.DataFrame(scaled_temp) # len=2449"
      ],
      "metadata": {
        "id": "eZCtWvvO2bhk"
      },
      "execution_count": null,
      "outputs": []
    },
    {
      "cell_type": "markdown",
      "source": [
        "### 1.2.2 Spliting data into train and split"
      ],
      "metadata": {
        "id": "oYJH7zoY2Z7v"
      }
    },
    {
      "cell_type": "code",
      "source": [
        "def df_to_X_y(df, window_size, forecast_horizon):\n",
        "    \"\"\"\n",
        "    Convert a DataFrame into X and y arrays for time series forecasting.\n",
        "\n",
        "    :param df: DataFrame containing the time series data.\n",
        "    :param window_size: Number of past observations to use for forecasting.\n",
        "    :param forecast_horizon: Number of future observations to forecast.\n",
        "    :return: Tuple of numpy arrays (X, y), where X is the feature set and y is the target set.\n",
        "    \"\"\"\n",
        "    df_as_np = df.to_numpy()\n",
        "    X = []\n",
        "    y = []\n",
        "\n",
        "    for i in range(len(df_as_np) - window_size - forecast_horizon + 1):\n",
        "        row = [[a] for a in df_as_np[i:i + window_size]]\n",
        "        X.append(row)\n",
        "\n",
        "        # Now, instead of adding a single value to y, add a range of values\n",
        "        label = df_as_np[i + window_size:i + window_size + forecast_horizon]\n",
        "        y.append(label)\n",
        "\n",
        "    X = np.array(X)\n",
        "    y = np.array(y)\n",
        "\n",
        "    # Reshaping X to remove the unnecessary last dimension\n",
        "    if X.shape[-1] == 1:\n",
        "        X = X.reshape((X.shape[0], X.shape[1], X.shape[2]))\n",
        "\n",
        "    return X, y\n",
        "\n",
        "window_size = 24\n",
        "forecast_horizon = 5\n",
        "\n",
        "X, y = df_to_X_y(scaled_temp, window_size, forecast_horizon)\n",
        "\n",
        "X_train, y_train = X[:int(len(X) * 0.8)], y[:int(len(y) * 0.8)]\n",
        "X_test, y_test = X[int(len(X) * 0.8):], y[int(len(y) * 0.8):]\n",
        "\n",
        "# X: (samples, window_size, features) // y: (samples, forecast_horizon, features)\n",
        "input_shape = (X_train.shape[1], X_train.shape[2])\n",
        "X_train.shape, y_train.shape, X_test.shape, y_test.shape\n"
      ],
      "metadata": {
        "id": "c0KTAuyGxj3Q",
        "colab": {
          "base_uri": "https://localhost:8080/"
        },
        "outputId": "cda1d5cd-5004-4fcf-a50f-802e32cbc6d9"
      },
      "execution_count": null,
      "outputs": [
        {
          "output_type": "execute_result",
          "data": {
            "text/plain": [
              "((1936, 24, 1), (1936, 5, 1), (485, 24, 1), (485, 5, 1))"
            ]
          },
          "metadata": {},
          "execution_count": 5
        }
      ]
    },
    {
      "cell_type": "markdown",
      "source": [
        "## 1.3 Building, training, predicting and evaluating LSTM model\n",
        "\n",
        "In this part, we will experiment with different kinds of:\n",
        "  - model architectures,\n",
        "  - learning rates,\n",
        "  - dropout rates,\n",
        "  - activation functions,\n",
        "  - number of epochs and,\n",
        "  - batch sizes\n",
        "\n",
        "as well as other hyperparameters to obtain the best possible forecasts."
      ],
      "metadata": {
        "id": "p3CMz2ta0YzC"
      }
    },
    {
      "cell_type": "markdown",
      "source": [
        "### 1.3.1 Model 1"
      ],
      "metadata": {
        "id": "_JmCeqRd9PEp"
      }
    },
    {
      "cell_type": "code",
      "source": [
        "# Definition for model1\n",
        "lstm_layers_model1 = [False]\n",
        "lstm_units_model1 = [64]\n",
        "dense_layers_model1 = 2\n",
        "dense_units_model1 = [10,5]\n",
        "\n",
        "\n",
        "# Building model1\n",
        "model1 = build_lstm_model(input_shape, lstm_layers_model1, dense_layers_model1,\n",
        "                          lstm_units_model1, dense_units_model1)\n",
        "\n",
        "model1.summary()\n",
        "\n",
        "# Training configuration\n",
        "config1 = {\n",
        "    'batch_size': 24,\n",
        "    'epochs': 8,\n",
        "    'learning_rate': 0.015\n",
        "}\n",
        "\n",
        "# Compile\n",
        "model1.compile(loss=MeanSquaredError(),optimizer=Adam(learning_rate=config1['learning_rate']))\n",
        "\n",
        "cp1_1 = ModelCheckpoint('/content/drive/My Drive/TFG_models/1_model1/', save_best_only=True) # lowest val_loss\n",
        "\n",
        "# Training model 1\n",
        "fit_model(model1, (X_train,y_train), config1, cp1_1, 0.2)\n",
        "\n",
        "# Predicting on model 1\n",
        "train_result = predicting(df, model1, X_train, y_train , cp1_1)\n",
        "\n",
        "# Evaluating prediction\n",
        "scores1, mse1 = evaluation(model1, train_result, (X_test,y_test))"
      ],
      "metadata": {
        "id": "n3sAWe9d0wLi",
        "colab": {
          "base_uri": "https://localhost:8080/",
          "height": 1000
        },
        "outputId": "18383ac3-18dd-401e-8efd-efa1ac02eb7c"
      },
      "execution_count": null,
      "outputs": [
        {
          "output_type": "stream",
          "name": "stdout",
          "text": [
            "Model: \"sequential_27\"\n",
            "_________________________________________________________________\n",
            " Layer (type)                Output Shape              Param #   \n",
            "=================================================================\n",
            " lstm_33 (LSTM)              (None, 64)                16896     \n",
            "                                                                 \n",
            " dense_54 (Dense)            (None, 10)                650       \n",
            "                                                                 \n",
            " dense_55 (Dense)            (None, 5)                 55        \n",
            "                                                                 \n",
            "=================================================================\n",
            "Total params: 17601 (68.75 KB)\n",
            "Trainable params: 17601 (68.75 KB)\n",
            "Non-trainable params: 0 (0.00 Byte)\n",
            "_________________________________________________________________\n",
            "Epoch 1/8\n",
            "65/65 [==============================] - 4s 45ms/step - loss: 0.0805 - val_loss: 0.0086\n",
            "Epoch 2/8\n",
            "65/65 [==============================] - 3s 40ms/step - loss: 0.0058 - val_loss: 0.0015\n",
            "Epoch 3/8\n",
            "65/65 [==============================] - 1s 14ms/step - loss: 0.0039 - val_loss: 0.0016\n",
            "Epoch 4/8\n",
            "65/65 [==============================] - 4s 64ms/step - loss: 0.0034 - val_loss: 0.0015\n",
            "Epoch 5/8\n",
            "65/65 [==============================] - 1s 22ms/step - loss: 0.0029 - val_loss: 0.0030\n",
            "Epoch 6/8\n",
            "65/65 [==============================] - 3s 53ms/step - loss: 0.0027 - val_loss: 8.9091e-04\n",
            "Epoch 7/8\n",
            "65/65 [==============================] - 1s 13ms/step - loss: 0.0023 - val_loss: 0.0012\n",
            "Epoch 8/8\n",
            "65/65 [==============================] - 1s 14ms/step - loss: 0.0022 - val_loss: 0.0012\n",
            "1 - Model 1 loss plot saved!\n"
          ]
        },
        {
          "output_type": "display_data",
          "data": {
            "text/plain": [
              "<Figure size 640x480 with 1 Axes>"
            ],
            "image/png": "[encoded data removed]"
          },
          "metadata": {}
        },
        {
          "output_type": "stream",
          "name": "stdout",
          "text": [
            "61/61 [==============================] - 0s 5ms/step\n",
            "1 - Model 1 prediction plot saved!\n"
          ]
        },
        {
          "output_type": "display_data",
          "data": {
            "text/plain": [
              "<Figure size 640x480 with 1 Axes>"
            ],
            "image/png": "[encoded data removed]"
          },
          "metadata": {}
        },
        {
          "output_type": "stream",
          "name": "stdout",
          "text": [
            "16/16 [==============================] - 0s 5ms/step - loss: 0.0012\n",
            "Model 1 Results: \n",
            " Loss: 0.0012102455366402864 \n",
            " MSE : 1.0216395586245173\n"
          ]
        }
      ]
    },
    {
      "cell_type": "markdown",
      "source": [
        "### 1.3.2 Model 2"
      ],
      "metadata": {
        "id": "lJ2YO-7S9Be0"
      }
    },
    {
      "cell_type": "code",
      "source": [
        "# Definition for model2\n",
        "lstm_layers_model2 = [True, False]\n",
        "lstm_units_model2 = [64, 32]\n",
        "dense_layers_model2 = 2\n",
        "dense_units_model2 = [15,5]\n",
        "\n",
        "# Building model2\n",
        "model2 = build_lstm_model(input_shape, lstm_layers_model2, dense_layers_model2,\n",
        "                          lstm_units_model2, dense_units_model2, dropout_rate=0.2,\n",
        "                          batch_normalization=True)\n",
        "model2.summary()\n",
        "\n",
        "# Training configuration\n",
        "config2 = {\n",
        "    'batch_size': 60,\n",
        "    'epochs': 8,\n",
        "    'learning_rate': 0.01\n",
        "}\n",
        "\n",
        "model2.compile(loss=MeanSquaredError(),optimizer=Adam(learning_rate=config2['learning_rate']))\n",
        "\n",
        "cp2_1 = ModelCheckpoint('/content/drive/My Drive/TFG_models/1_model2/', save_best_only=True)\n",
        "\n",
        "fit_model(model2, (X_train,y_train), config2, cp2_1, 0.2)\n",
        "train_result = predicting(df, model2, X_train, y_train , cp2_1)\n",
        "scores2, mse2 = evaluation(model2, train_result, (X_test,y_test))\n"
      ],
      "metadata": {
        "id": "DoxXtwwp9HvV",
        "colab": {
          "base_uri": "https://localhost:8080/",
          "height": 1000
        },
        "outputId": "5f020465-7003-4569-a520-232b0d9eb41d"
      },
      "execution_count": null,
      "outputs": [
        {
          "output_type": "stream",
          "name": "stdout",
          "text": [
            "Model: \"sequential_28\"\n",
            "_________________________________________________________________\n",
            " Layer (type)                Output Shape              Param #   \n",
            "=================================================================\n",
            " lstm_34 (LSTM)              (None, 24, 64)            16896     \n",
            "                                                                 \n",
            " batch_normalization_12 (Ba  (None, 24, 64)            256       \n",
            " tchNormalization)                                               \n",
            "                                                                 \n",
            " dropout_12 (Dropout)        (None, 24, 64)            0         \n",
            "                                                                 \n",
            " lstm_35 (LSTM)              (None, 32)                12416     \n",
            "                                                                 \n",
            " batch_normalization_13 (Ba  (None, 32)                128       \n",
            " tchNormalization)                                               \n",
            "                                                                 \n",
            " dropout_13 (Dropout)        (None, 32)                0         \n",
            "                                                                 \n",
            " dense_56 (Dense)            (None, 15)                495       \n",
            "                                                                 \n",
            " dense_57 (Dense)            (None, 5)                 80        \n",
            "                                                                 \n",
            "=================================================================\n",
            "Total params: 30271 (118.25 KB)\n",
            "Trainable params: 30079 (117.50 KB)\n",
            "Non-trainable params: 192 (768.00 Byte)\n",
            "_________________________________________________________________\n",
            "Epoch 1/8\n",
            "26/26 [==============================] - 12s 265ms/step - loss: 0.0934 - val_loss: 0.0173\n",
            "Epoch 2/8\n",
            "26/26 [==============================] - 4s 178ms/step - loss: 0.0206 - val_loss: 0.0148\n",
            "Epoch 3/8\n",
            "26/26 [==============================] - 1s 34ms/step - loss: 0.0110 - val_loss: 0.0342\n",
            "Epoch 4/8\n",
            "26/26 [==============================] - 1s 48ms/step - loss: 0.0077 - val_loss: 0.0341\n",
            "Epoch 5/8\n",
            "26/26 [==============================] - 1s 56ms/step - loss: 0.0067 - val_loss: 0.0198\n",
            "Epoch 6/8\n",
            "26/26 [==============================] - 2s 58ms/step - loss: 0.0076 - val_loss: 0.0285\n",
            "Epoch 7/8\n",
            "26/26 [==============================] - 1s 55ms/step - loss: 0.0058 - val_loss: 0.0303\n",
            "Epoch 8/8\n",
            "26/26 [==============================] - 2s 59ms/step - loss: 0.0059 - val_loss: 0.0320\n",
            "1 - Model 2 loss plot saved!\n"
          ]
        },
        {
          "output_type": "display_data",
          "data": {
            "text/plain": [
              "<Figure size 640x480 with 1 Axes>"
            ],
            "image/png": "[encoded data removed]"
          },
          "metadata": {}
        },
        {
          "output_type": "stream",
          "name": "stdout",
          "text": [
            "61/61 [==============================] - 1s 8ms/step\n",
            "1 - Model 2 prediction plot saved!\n"
          ]
        },
        {
          "output_type": "display_data",
          "data": {
            "text/plain": [
              "<Figure size 640x480 with 1 Axes>"
            ],
            "image/png": "[encoded data removed]"
          },
          "metadata": {}
        },
        {
          "output_type": "stream",
          "name": "stdout",
          "text": [
            "16/16 [==============================] - 0s 9ms/step - loss: 0.0391\n",
            "Model 2 Results: \n",
            " Loss: 0.0391237698495388 \n",
            " MSE : 21.939552088824712\n"
          ]
        }
      ]
    },
    {
      "cell_type": "markdown",
      "source": [
        "### 1.3.3 Saving all results"
      ],
      "metadata": {
        "id": "IoHHXdEdERXr"
      }
    },
    {
      "cell_type": "code",
      "source": [
        "import openpyxl\n",
        "for model_n, model in enumerate([model1,model2,modelA,modelB,modelC], start=1):\n",
        "    if model_n == 1:\n",
        "      # Get the last loss and MSE\n",
        "      loss = scores1\n",
        "      mse = mse1  # Replace 'mse' with your actual MSE metric key if different\n",
        "      config=config1\n",
        "    elif model_n == 2:\n",
        "      loss = scores2\n",
        "      mse = mse2  # Replace 'mse' with your actual MSE metric key if different\n",
        "      config=config2\n",
        "\n",
        "    # Get the model summary as a string\n",
        "    summary = []\n",
        "    model.summary(print_fn=lambda x: summary.append(x))\n",
        "    summary_str = \"\\n\".join(summary)\n",
        "\n",
        "    # Create a DataFrame with the results\n",
        "    time_str = datetime.now().strftime('%Y%m%d%H%M%S')  # Fixed the format to include year and seconds\n",
        "    results_df = pd.DataFrame({\n",
        "        'Model': f\"{model_n}_{time_str}\",\n",
        "        'Summary of the architecture (string)': summary_str,\n",
        "        'learning_rate': config['learning_rate'],\n",
        "        'epoch': config['epochs'],\n",
        "        'batch_size': config['batch_size'],\n",
        "        'Loss': loss,\n",
        "        'MSE': mse\n",
        "    }, index=[0])\n",
        "\n",
        "    file_exists = os.path.isfile(log_path)\n",
        "\n",
        "    # Write the DataFrame to the Excel file\n",
        "    if not file_exists:\n",
        "        with pd.ExcelWriter(log_path, engine='openpyxl') as writer:\n",
        "            results_df.to_excel(writer, index=False)\n",
        "        file_exists = True  # Update the flag so headers are not added again\n",
        "    else:\n",
        "        with pd.ExcelWriter(log_path, mode='a', if_sheet_exists='overlay', engine='openpyxl') as writer:\n",
        "            results_df.to_excel(writer, index=False, header=False, startrow=writer.sheets['Sheet1'].max_row)"
      ],
      "metadata": {
        "id": "1wialCEnsk1g"
      },
      "execution_count": null,
      "outputs": []
    },
    {
      "cell_type": "markdown",
      "source": [
        "## Hyperparameter tuning\n"
      ],
      "metadata": {
        "id": "zXsydDmOk-Kc"
      }
    },
    {
      "cell_type": "code",
      "source": [
        "!pip install keras-tuner"
      ],
      "metadata": {
        "colab": {
          "base_uri": "https://localhost:8080/"
        },
        "id": "H65M-msz8kK9",
        "outputId": "a4fbe9d8-f918-4942-ade4-958453562ab7"
      },
      "execution_count": null,
      "outputs": [
        {
          "output_type": "stream",
          "name": "stdout",
          "text": [
            "Collecting keras-tuner\n",
            "  Downloading keras_tuner-1.4.6-py3-none-any.whl (128 kB)\n",
            "\u001b[?25l     \u001b[90m━━━━━━━━━━━━━━━━━━━━━━━━━━━━━━━━━━━━━━━━\u001b[0m \u001b[32m0.0/128.9 kB\u001b[0m \u001b[31m?\u001b[0m eta \u001b[36m-:--:--\u001b[0m\r\u001b[2K     \u001b[91m━━━━━━━━━━━━━━━━━━━━━━\u001b[0m\u001b[90m╺\u001b[0m\u001b[90m━━━━━━━━━━━━━━━━━\u001b[0m \u001b[32m71.7/128.9 kB\u001b[0m \u001b[31m1.9 MB/s\u001b[0m eta \u001b[36m0:00:01\u001b[0m\r\u001b[2K     \u001b[90m━━━━━━━━━━━━━━━━━━━━━━━━━━━━━━━━━━━━━━━━\u001b[0m \u001b[32m128.9/128.9 kB\u001b[0m \u001b[31m2.6 MB/s\u001b[0m eta \u001b[36m0:00:00\u001b[0m\n",
            "\u001b[?25hRequirement already satisfied: keras in /usr/local/lib/python3.10/dist-packages (from keras-tuner) (2.14.0)\n",
            "Requirement already satisfied: packaging in /usr/local/lib/python3.10/dist-packages (from keras-tuner) (23.2)\n",
            "Requirement already satisfied: requests in /usr/local/lib/python3.10/dist-packages (from keras-tuner) (2.31.0)\n",
            "Collecting kt-legacy (from keras-tuner)\n",
            "  Downloading kt_legacy-1.0.5-py3-none-any.whl (9.6 kB)\n",
            "Requirement already satisfied: charset-normalizer<4,>=2 in /usr/local/lib/python3.10/dist-packages (from requests->keras-tuner) (3.3.2)\n",
            "Requirement already satisfied: idna<4,>=2.5 in /usr/local/lib/python3.10/dist-packages (from requests->keras-tuner) (3.4)\n",
            "Requirement already satisfied: urllib3<3,>=1.21.1 in /usr/local/lib/python3.10/dist-packages (from requests->keras-tuner) (2.0.7)\n",
            "Requirement already satisfied: certifi>=2017.4.17 in /usr/local/lib/python3.10/dist-packages (from requests->keras-tuner) (2023.7.22)\n",
            "Installing collected packages: kt-legacy, keras-tuner\n",
            "Successfully installed keras-tuner-1.4.6 kt-legacy-1.0.5\n"
          ]
        }
      ]
    },
    {
      "cell_type": "code",
      "source": [
        "import kerastuner as kt\n",
        "from keras.models import Sequential\n",
        "from keras.layers import LSTM, Dense, Dropout, GRU\n",
        "from keras.callbacks import EarlyStopping, ModelCheckpoint\n",
        "\n",
        "def build_model(hp):\n",
        "    model = Sequential()\n",
        "    model.add(LSTM(units=hp.Int('units', min_value=32, max_value=512, step=32),\n",
        "                   return_sequences=True,\n",
        "                   input_shape=(X_train.shape[1], X_train.shape[2])))\n",
        "    model.add(Dropout(hp.Float('dropout', min_value=0.0, max_value=0.5, step=0.1)))\n",
        "\n",
        "    for i in range(hp.Int('num_layers', 1, 3)):\n",
        "        model.add(LSTM(units=hp.Int(f'lstm_{i}_units',\n",
        "                                    min_value=32,\n",
        "                                    max_value=512,\n",
        "                                    step=32),\n",
        "                       return_sequences=True))\n",
        "        model.add(Dropout(hp.Float(f'dropout_{i}', min_value=0.0, max_value=0.5, step=0.1)))\n",
        "\n",
        "    model.add(LSTM(units=hp.Int('final_lstm_units', min_value=32, max_value=512, step=32), return_sequences=False))\n",
        "    model.add(Dropout(hp.Float('final_dropout', min_value=0.0, max_value=0.5, step=0.1)))\n",
        "    model.add(Dense(units=1, activation='linear'))\n",
        "\n",
        "    model.compile(optimizer='adam', loss='mse', metrics=['mse'])\n",
        "\n",
        "    return model\n",
        "\n",
        "tuner = kt.Hyperband(build_model,\n",
        "                     objective='val_mse',\n",
        "                     max_epochs=40,\n",
        "                     hyperband_iterations=2,\n",
        "                     directory='my_dir',\n",
        "                     project_name='final_lstm_tuning')\n",
        "\n",
        "stop_early = EarlyStopping(monitor='val_loss', patience=5)\n",
        "\n",
        "tuner.search(X_train, y_train, epochs=40, validation_split=0.2, callbacks=[stop_early])\n",
        "\n",
        "# Get the optimal hyperparameters\n",
        "best_hps = tuner.get_best_hyperparameters()[0]\n",
        "\n",
        "# Build the model with the best hyperparameters\n",
        "model = tuner.hypermodel.build(best_hps)\n",
        "model.fit(X_train, y_train, epochs=20, validation_split=0.2)\n",
        "\n",
        "# Evaluate the model\n",
        "test_accuracy = model.evaluate(X_test, y_test, verbose=0)\n",
        "print(f'Test Accuracy: {test_accuracy}')"
      ],
      "metadata": {
        "colab": {
          "base_uri": "https://localhost:8080/",
          "height": 464
        },
        "id": "AfS56CQqlCAd",
        "outputId": "cb4d0720-a3fa-45f8-8751-53a4f119acb5"
      },
      "execution_count": null,
      "outputs": [
        {
          "output_type": "error",
          "ename": "ModuleNotFoundError",
          "evalue": "ignored",
          "traceback": [
            "\u001b[0;31m---------------------------------------------------------------------------\u001b[0m",
            "\u001b[0;31mModuleNotFoundError\u001b[0m                       Traceback (most recent call last)",
            "\u001b[0;32m<ipython-input-1-9e7641ca1c49>\u001b[0m in \u001b[0;36m<cell line: 1>\u001b[0;34m()\u001b[0m\n\u001b[0;32m----> 1\u001b[0;31m \u001b[0;32mimport\u001b[0m \u001b[0mkerastuner\u001b[0m \u001b[0;32mas\u001b[0m \u001b[0mkt\u001b[0m\u001b[0;34m\u001b[0m\u001b[0;34m\u001b[0m\u001b[0m\n\u001b[0m\u001b[1;32m      2\u001b[0m \u001b[0;32mfrom\u001b[0m \u001b[0mkeras\u001b[0m\u001b[0;34m.\u001b[0m\u001b[0mmodels\u001b[0m \u001b[0;32mimport\u001b[0m \u001b[0mSequential\u001b[0m\u001b[0;34m\u001b[0m\u001b[0;34m\u001b[0m\u001b[0m\n\u001b[1;32m      3\u001b[0m \u001b[0;32mfrom\u001b[0m \u001b[0mkeras\u001b[0m\u001b[0;34m.\u001b[0m\u001b[0mlayers\u001b[0m \u001b[0;32mimport\u001b[0m \u001b[0mLSTM\u001b[0m\u001b[0;34m,\u001b[0m \u001b[0mDense\u001b[0m\u001b[0;34m,\u001b[0m \u001b[0mDropout\u001b[0m\u001b[0;34m,\u001b[0m \u001b[0mGRU\u001b[0m\u001b[0;34m\u001b[0m\u001b[0;34m\u001b[0m\u001b[0m\n\u001b[1;32m      4\u001b[0m \u001b[0;32mfrom\u001b[0m \u001b[0mkeras\u001b[0m\u001b[0;34m.\u001b[0m\u001b[0mcallbacks\u001b[0m \u001b[0;32mimport\u001b[0m \u001b[0mEarlyStopping\u001b[0m\u001b[0;34m,\u001b[0m \u001b[0mModelCheckpoint\u001b[0m\u001b[0;34m\u001b[0m\u001b[0;34m\u001b[0m\u001b[0m\n\u001b[1;32m      5\u001b[0m \u001b[0;34m\u001b[0m\u001b[0m\n",
            "\u001b[0;31mModuleNotFoundError\u001b[0m: No module named 'kerastuner'",
            "",
            "\u001b[0;31m---------------------------------------------------------------------------\u001b[0;32m\nNOTE: If your import is failing due to a missing package, you can\nmanually install dependencies using either !pip or !apt.\n\nTo view examples of installing some common dependencies, click the\n\"Open Examples\" button below.\n\u001b[0;31m---------------------------------------------------------------------------\u001b[0m\n"
          ],
          "errorDetails": {
            "actions": [
              {
                "action": "open_url",
                "actionText": "Open Examples",
                "url": "/notebooks/snippets/importing_libraries.ipynb"
              }
            ]
          }
        }
      ]
    },
    {
      "cell_type": "markdown",
      "source": [
        "# 2. Forecasting including other feature values\n",
        "  To do this, we have to study which of the other 78 features are mostly relevant to feature **B.RTD1**. This task will be performed using the _Mutual Information Score_\n",
        "\n",
        "  **a. Mutual Information Score:**\n",
        "\n",
        "  - Why? It can capture any kind of realtionship, not just linearity\n",
        "  - Interpretation:\n",
        "    - High: More informative about target variable\n",
        "    - Low: Less informative about target variable"
      ],
      "metadata": {
        "id": "kUp0cKv1tViO"
      }
    },
    {
      "cell_type": "markdown",
      "source": [
        "## 2.1 Initial data preparation"
      ],
      "metadata": {
        "id": "xxlIjR1MCNPq"
      }
    },
    {
      "cell_type": "code",
      "execution_count": null,
      "metadata": {
        "id": "tUBm5NQeuMNU",
        "colab": {
          "base_uri": "https://localhost:8080/",
          "height": 649
        },
        "outputId": "3b3d0154-30f5-4763-c098-d591af50b3aa"
      },
      "outputs": [
        {
          "output_type": "execute_result",
          "data": {
            "text/plain": [
              "                           B.ASTRHT2.H  B.ASTRHT2.S  B.ASTRHT2.T     B.RTD1  \\\n",
              "_time                                                                         \n",
              "2023-07-26 11:00:00+00:00    25.537037     1.138889    33.448148  25.696296   \n",
              "2023-07-26 11:10:00+00:00    20.816667     1.743333    36.718333  26.268333   \n",
              "2023-07-26 11:20:00+00:00    25.416667     1.791667    33.535000  27.171667   \n",
              "2023-07-26 11:30:00+00:00    29.700000     1.741667    31.000000  28.046667   \n",
              "2023-07-26 11:40:00+00:00    31.933333     1.750000    29.623333  28.756667   \n",
              "...                                ...          ...          ...        ...   \n",
              "2023-08-12 10:20:00+00:00    53.216667     2.881667    22.371667  24.630000   \n",
              "2023-08-12 10:30:00+00:00    53.116667     2.900000    22.400000  24.755000   \n",
              "2023-08-12 10:40:00+00:00    53.233333     2.870000    22.521667  24.993333   \n",
              "2023-08-12 10:50:00+00:00    52.433333     2.838333    22.658333  25.256667   \n",
              "2023-08-12 11:00:00+00:00    52.500000     2.833333    22.700000  25.400000   \n",
              "\n",
              "                              B.RTD2     B.RTD3     B.RTD6     BT.AOC  \\\n",
              "_time                                                                   \n",
              "2023-07-26 11:00:00+00:00  26.229630  26.342593  27.412963  26.014815   \n",
              "2023-07-26 11:10:00+00:00  27.125000  27.306667  29.433333  26.143333   \n",
              "2023-07-26 11:20:00+00:00  28.305000  28.430000  30.403333  26.250000   \n",
              "2023-07-26 11:30:00+00:00  29.108333  29.306667  30.431667  26.301667   \n",
              "2023-07-26 11:40:00+00:00  29.461667  29.741667  30.125000  26.300000   \n",
              "...                              ...        ...        ...        ...   \n",
              "2023-08-12 10:20:00+00:00  24.751667  24.726667  25.038333  26.378333   \n",
              "2023-08-12 10:30:00+00:00  24.875000  24.850000  25.266667  26.393333   \n",
              "2023-08-12 10:40:00+00:00  25.096667  25.043333  25.665000  26.340000   \n",
              "2023-08-12 10:50:00+00:00  25.338333  25.278333  25.918333  26.350000   \n",
              "2023-08-12 11:00:00+00:00  25.500000  25.400000  26.100000  26.400000   \n",
              "\n",
              "                              BT.AOE     BT.AOF  ...      O.SIM2      O.SIM3  \\\n",
              "_time                                            ...                           \n",
              "2023-07-26 11:00:00+00:00  26.238889  25.609259  ...  181.000000  164.629630   \n",
              "2023-07-26 11:10:00+00:00  26.350000  25.751667  ...  145.700000  124.716667   \n",
              "2023-07-26 11:20:00+00:00  26.453333  25.803333  ...  133.200000  113.866667   \n",
              "2023-07-26 11:30:00+00:00  26.500000  25.881667  ...  125.316667  106.566667   \n",
              "2023-07-26 11:40:00+00:00  26.568333  25.900000  ...  110.500000   89.700000   \n",
              "...                              ...        ...  ...         ...         ...   \n",
              "2023-08-12 10:20:00+00:00  26.900000  26.700000  ...  216.366667  167.216667   \n",
              "2023-08-12 10:30:00+00:00  26.906667  26.700000  ...  320.533333  272.066667   \n",
              "2023-08-12 10:40:00+00:00  26.963333  26.700000  ...  552.866667  506.683333   \n",
              "2023-08-12 10:50:00+00:00  27.000000  26.706667  ...  451.350000  421.933333   \n",
              "2023-08-12 11:00:00+00:00  27.000000  26.716667  ...  597.500000  539.500000   \n",
              "\n",
              "                           PID/SB47.setpoint  PID/SB46.setpoint  \\\n",
              "_time                                                             \n",
              "2023-07-26 11:00:00+00:00               20.0                7.0   \n",
              "2023-07-26 11:10:00+00:00               20.0                7.0   \n",
              "2023-07-26 11:20:00+00:00               20.0                7.0   \n",
              "2023-07-26 11:30:00+00:00               20.0                7.0   \n",
              "2023-07-26 11:40:00+00:00               20.0                7.0   \n",
              "...                                      ...                ...   \n",
              "2023-08-12 10:20:00+00:00               40.0                7.0   \n",
              "2023-08-12 10:30:00+00:00               40.0                7.0   \n",
              "2023-08-12 10:40:00+00:00               40.0                7.0   \n",
              "2023-08-12 10:50:00+00:00               40.0                7.0   \n",
              "2023-08-12 11:00:00+00:00               40.0                7.0   \n",
              "\n",
              "                           PID/EC3.setpoint  PID/SB43.setpoint  \\\n",
              "_time                                                            \n",
              "2023-07-26 11:00:00+00:00              30.0                0.0   \n",
              "2023-07-26 11:10:00+00:00              30.0                0.0   \n",
              "2023-07-26 11:20:00+00:00              30.0                0.0   \n",
              "2023-07-26 11:30:00+00:00              30.0                0.0   \n",
              "2023-07-26 11:40:00+00:00              30.0                0.0   \n",
              "...                                     ...                ...   \n",
              "2023-08-12 10:20:00+00:00              20.0                0.0   \n",
              "2023-08-12 10:30:00+00:00              20.0                0.0   \n",
              "2023-08-12 10:40:00+00:00              20.0                0.0   \n",
              "2023-08-12 10:50:00+00:00              20.0                0.0   \n",
              "2023-08-12 11:00:00+00:00              20.0                0.0   \n",
              "\n",
              "                           PID/SB47.enabled  PID/SB46.enabled  \\\n",
              "_time                                                           \n",
              "2023-07-26 11:00:00+00:00               1.0               1.0   \n",
              "2023-07-26 11:10:00+00:00               1.0               1.0   \n",
              "2023-07-26 11:20:00+00:00               1.0               1.0   \n",
              "2023-07-26 11:30:00+00:00               1.0               1.0   \n",
              "2023-07-26 11:40:00+00:00               1.0               1.0   \n",
              "...                                     ...               ...   \n",
              "2023-08-12 10:20:00+00:00               1.0               1.0   \n",
              "2023-08-12 10:30:00+00:00               1.0               1.0   \n",
              "2023-08-12 10:40:00+00:00               1.0               1.0   \n",
              "2023-08-12 10:50:00+00:00               1.0               1.0   \n",
              "2023-08-12 11:00:00+00:00               1.0               1.0   \n",
              "\n",
              "                           PID/EC3.enabled  PID/SB43.enabled  \n",
              "_time                                                         \n",
              "2023-07-26 11:00:00+00:00              1.0               0.0  \n",
              "2023-07-26 11:10:00+00:00              1.0               0.0  \n",
              "2023-07-26 11:20:00+00:00              1.0               0.0  \n",
              "2023-07-26 11:30:00+00:00              1.0               0.0  \n",
              "2023-07-26 11:40:00+00:00              1.0               0.0  \n",
              "...                                    ...               ...  \n",
              "2023-08-12 10:20:00+00:00              1.0               0.0  \n",
              "2023-08-12 10:30:00+00:00              1.0               0.0  \n",
              "2023-08-12 10:40:00+00:00              1.0               0.0  \n",
              "2023-08-12 10:50:00+00:00              1.0               0.0  \n",
              "2023-08-12 11:00:00+00:00              1.0               0.0  \n",
              "\n",
              "[2449 rows x 78 columns]"
            ],
            "text/html": [
              "\n",
              "  <div id=\"df-63107c2e-bcb2-4e2d-9905-0deed538535f\" class=\"colab-df-container\">\n",
              "    <div>\n",
              "<style scoped>\n",
              "    .dataframe tbody tr th:only-of-type {\n",
              "        vertical-align: middle;\n",
              "    }\n",
              "\n",
              "    .dataframe tbody tr th {\n",
              "        vertical-align: top;\n",
              "    }\n",
              "\n",
              "    .dataframe thead th {\n",
              "        text-align: right;\n",
              "    }\n",
              "</style>\n",
              "<table border=\"1\" class=\"dataframe\">\n",
              "  <thead>\n",
              "    <tr style=\"text-align: right;\">\n",
              "      <th></th>\n",
              "      <th>B.ASTRHT2.H</th>\n",
              "      <th>B.ASTRHT2.S</th>\n",
              "      <th>B.ASTRHT2.T</th>\n",
              "      <th>B.RTD1</th>\n",
              "      <th>B.RTD2</th>\n",
              "      <th>B.RTD3</th>\n",
              "      <th>B.RTD6</th>\n",
              "      <th>BT.AOC</th>\n",
              "      <th>BT.AOE</th>\n",
              "      <th>BT.AOF</th>\n",
              "      <th>...</th>\n",
              "      <th>O.SIM2</th>\n",
              "      <th>O.SIM3</th>\n",
              "      <th>PID/SB47.setpoint</th>\n",
              "      <th>PID/SB46.setpoint</th>\n",
              "      <th>PID/EC3.setpoint</th>\n",
              "      <th>PID/SB43.setpoint</th>\n",
              "      <th>PID/SB47.enabled</th>\n",
              "      <th>PID/SB46.enabled</th>\n",
              "      <th>PID/EC3.enabled</th>\n",
              "      <th>PID/SB43.enabled</th>\n",
              "    </tr>\n",
              "    <tr>\n",
              "      <th>_time</th>\n",
              "      <th></th>\n",
              "      <th></th>\n",
              "      <th></th>\n",
              "      <th></th>\n",
              "      <th></th>\n",
              "      <th></th>\n",
              "      <th></th>\n",
              "      <th></th>\n",
              "      <th></th>\n",
              "      <th></th>\n",
              "      <th></th>\n",
              "      <th></th>\n",
              "      <th></th>\n",
              "      <th></th>\n",
              "      <th></th>\n",
              "      <th></th>\n",
              "      <th></th>\n",
              "      <th></th>\n",
              "      <th></th>\n",
              "      <th></th>\n",
              "      <th></th>\n",
              "    </tr>\n",
              "  </thead>\n",
              "  <tbody>\n",
              "    <tr>\n",
              "      <th>2023-07-26 11:00:00+00:00</th>\n",
              "      <td>25.537037</td>\n",
              "      <td>1.138889</td>\n",
              "      <td>33.448148</td>\n",
              "      <td>25.696296</td>\n",
              "      <td>26.229630</td>\n",
              "      <td>26.342593</td>\n",
              "      <td>27.412963</td>\n",
              "      <td>26.014815</td>\n",
              "      <td>26.238889</td>\n",
              "      <td>25.609259</td>\n",
              "      <td>...</td>\n",
              "      <td>181.000000</td>\n",
              "      <td>164.629630</td>\n",
              "      <td>20.0</td>\n",
              "      <td>7.0</td>\n",
              "      <td>30.0</td>\n",
              "      <td>0.0</td>\n",
              "      <td>1.0</td>\n",
              "      <td>1.0</td>\n",
              "      <td>1.0</td>\n",
              "      <td>0.0</td>\n",
              "    </tr>\n",
              "    <tr>\n",
              "      <th>2023-07-26 11:10:00+00:00</th>\n",
              "      <td>20.816667</td>\n",
              "      <td>1.743333</td>\n",
              "      <td>36.718333</td>\n",
              "      <td>26.268333</td>\n",
              "      <td>27.125000</td>\n",
              "      <td>27.306667</td>\n",
              "      <td>29.433333</td>\n",
              "      <td>26.143333</td>\n",
              "      <td>26.350000</td>\n",
              "      <td>25.751667</td>\n",
              "      <td>...</td>\n",
              "      <td>145.700000</td>\n",
              "      <td>124.716667</td>\n",
              "      <td>20.0</td>\n",
              "      <td>7.0</td>\n",
              "      <td>30.0</td>\n",
              "      <td>0.0</td>\n",
              "      <td>1.0</td>\n",
              "      <td>1.0</td>\n",
              "      <td>1.0</td>\n",
              "      <td>0.0</td>\n",
              "    </tr>\n",
              "    <tr>\n",
              "      <th>2023-07-26 11:20:00+00:00</th>\n",
              "      <td>25.416667</td>\n",
              "      <td>1.791667</td>\n",
              "      <td>33.535000</td>\n",
              "      <td>27.171667</td>\n",
              "      <td>28.305000</td>\n",
              "      <td>28.430000</td>\n",
              "      <td>30.403333</td>\n",
              "      <td>26.250000</td>\n",
              "      <td>26.453333</td>\n",
              "      <td>25.803333</td>\n",
              "      <td>...</td>\n",
              "      <td>133.200000</td>\n",
              "      <td>113.866667</td>\n",
              "      <td>20.0</td>\n",
              "      <td>7.0</td>\n",
              "      <td>30.0</td>\n",
              "      <td>0.0</td>\n",
              "      <td>1.0</td>\n",
              "      <td>1.0</td>\n",
              "      <td>1.0</td>\n",
              "      <td>0.0</td>\n",
              "    </tr>\n",
              "    <tr>\n",
              "      <th>2023-07-26 11:30:00+00:00</th>\n",
              "      <td>29.700000</td>\n",
              "      <td>1.741667</td>\n",
              "      <td>31.000000</td>\n",
              "      <td>28.046667</td>\n",
              "      <td>29.108333</td>\n",
              "      <td>29.306667</td>\n",
              "      <td>30.431667</td>\n",
              "      <td>26.301667</td>\n",
              "      <td>26.500000</td>\n",
              "      <td>25.881667</td>\n",
              "      <td>...</td>\n",
              "      <td>125.316667</td>\n",
              "      <td>106.566667</td>\n",
              "      <td>20.0</td>\n",
              "      <td>7.0</td>\n",
              "      <td>30.0</td>\n",
              "      <td>0.0</td>\n",
              "      <td>1.0</td>\n",
              "      <td>1.0</td>\n",
              "      <td>1.0</td>\n",
              "      <td>0.0</td>\n",
              "    </tr>\n",
              "    <tr>\n",
              "      <th>2023-07-26 11:40:00+00:00</th>\n",
              "      <td>31.933333</td>\n",
              "      <td>1.750000</td>\n",
              "      <td>29.623333</td>\n",
              "      <td>28.756667</td>\n",
              "      <td>29.461667</td>\n",
              "      <td>29.741667</td>\n",
              "      <td>30.125000</td>\n",
              "      <td>26.300000</td>\n",
              "      <td>26.568333</td>\n",
              "      <td>25.900000</td>\n",
              "      <td>...</td>\n",
              "      <td>110.500000</td>\n",
              "      <td>89.700000</td>\n",
              "      <td>20.0</td>\n",
              "      <td>7.0</td>\n",
              "      <td>30.0</td>\n",
              "      <td>0.0</td>\n",
              "      <td>1.0</td>\n",
              "      <td>1.0</td>\n",
              "      <td>1.0</td>\n",
              "      <td>0.0</td>\n",
              "    </tr>\n",
              "    <tr>\n",
              "      <th>...</th>\n",
              "      <td>...</td>\n",
              "      <td>...</td>\n",
              "      <td>...</td>\n",
              "      <td>...</td>\n",
              "      <td>...</td>\n",
              "      <td>...</td>\n",
              "      <td>...</td>\n",
              "      <td>...</td>\n",
              "      <td>...</td>\n",
              "      <td>...</td>\n",
              "      <td>...</td>\n",
              "      <td>...</td>\n",
              "      <td>...</td>\n",
              "      <td>...</td>\n",
              "      <td>...</td>\n",
              "      <td>...</td>\n",
              "      <td>...</td>\n",
              "      <td>...</td>\n",
              "      <td>...</td>\n",
              "      <td>...</td>\n",
              "      <td>...</td>\n",
              "    </tr>\n",
              "    <tr>\n",
              "      <th>2023-08-12 10:20:00+00:00</th>\n",
              "      <td>53.216667</td>\n",
              "      <td>2.881667</td>\n",
              "      <td>22.371667</td>\n",
              "      <td>24.630000</td>\n",
              "      <td>24.751667</td>\n",
              "      <td>24.726667</td>\n",
              "      <td>25.038333</td>\n",
              "      <td>26.378333</td>\n",
              "      <td>26.900000</td>\n",
              "      <td>26.700000</td>\n",
              "      <td>...</td>\n",
              "      <td>216.366667</td>\n",
              "      <td>167.216667</td>\n",
              "      <td>40.0</td>\n",
              "      <td>7.0</td>\n",
              "      <td>20.0</td>\n",
              "      <td>0.0</td>\n",
              "      <td>1.0</td>\n",
              "      <td>1.0</td>\n",
              "      <td>1.0</td>\n",
              "      <td>0.0</td>\n",
              "    </tr>\n",
              "    <tr>\n",
              "      <th>2023-08-12 10:30:00+00:00</th>\n",
              "      <td>53.116667</td>\n",
              "      <td>2.900000</td>\n",
              "      <td>22.400000</td>\n",
              "      <td>24.755000</td>\n",
              "      <td>24.875000</td>\n",
              "      <td>24.850000</td>\n",
              "      <td>25.266667</td>\n",
              "      <td>26.393333</td>\n",
              "      <td>26.906667</td>\n",
              "      <td>26.700000</td>\n",
              "      <td>...</td>\n",
              "      <td>320.533333</td>\n",
              "      <td>272.066667</td>\n",
              "      <td>40.0</td>\n",
              "      <td>7.0</td>\n",
              "      <td>20.0</td>\n",
              "      <td>0.0</td>\n",
              "      <td>1.0</td>\n",
              "      <td>1.0</td>\n",
              "      <td>1.0</td>\n",
              "      <td>0.0</td>\n",
              "    </tr>\n",
              "    <tr>\n",
              "      <th>2023-08-12 10:40:00+00:00</th>\n",
              "      <td>53.233333</td>\n",
              "      <td>2.870000</td>\n",
              "      <td>22.521667</td>\n",
              "      <td>24.993333</td>\n",
              "      <td>25.096667</td>\n",
              "      <td>25.043333</td>\n",
              "      <td>25.665000</td>\n",
              "      <td>26.340000</td>\n",
              "      <td>26.963333</td>\n",
              "      <td>26.700000</td>\n",
              "      <td>...</td>\n",
              "      <td>552.866667</td>\n",
              "      <td>506.683333</td>\n",
              "      <td>40.0</td>\n",
              "      <td>7.0</td>\n",
              "      <td>20.0</td>\n",
              "      <td>0.0</td>\n",
              "      <td>1.0</td>\n",
              "      <td>1.0</td>\n",
              "      <td>1.0</td>\n",
              "      <td>0.0</td>\n",
              "    </tr>\n",
              "    <tr>\n",
              "      <th>2023-08-12 10:50:00+00:00</th>\n",
              "      <td>52.433333</td>\n",
              "      <td>2.838333</td>\n",
              "      <td>22.658333</td>\n",
              "      <td>25.256667</td>\n",
              "      <td>25.338333</td>\n",
              "      <td>25.278333</td>\n",
              "      <td>25.918333</td>\n",
              "      <td>26.350000</td>\n",
              "      <td>27.000000</td>\n",
              "      <td>26.706667</td>\n",
              "      <td>...</td>\n",
              "      <td>451.350000</td>\n",
              "      <td>421.933333</td>\n",
              "      <td>40.0</td>\n",
              "      <td>7.0</td>\n",
              "      <td>20.0</td>\n",
              "      <td>0.0</td>\n",
              "      <td>1.0</td>\n",
              "      <td>1.0</td>\n",
              "      <td>1.0</td>\n",
              "      <td>0.0</td>\n",
              "    </tr>\n",
              "    <tr>\n",
              "      <th>2023-08-12 11:00:00+00:00</th>\n",
              "      <td>52.500000</td>\n",
              "      <td>2.833333</td>\n",
              "      <td>22.700000</td>\n",
              "      <td>25.400000</td>\n",
              "      <td>25.500000</td>\n",
              "      <td>25.400000</td>\n",
              "      <td>26.100000</td>\n",
              "      <td>26.400000</td>\n",
              "      <td>27.000000</td>\n",
              "      <td>26.716667</td>\n",
              "      <td>...</td>\n",
              "      <td>597.500000</td>\n",
              "      <td>539.500000</td>\n",
              "      <td>40.0</td>\n",
              "      <td>7.0</td>\n",
              "      <td>20.0</td>\n",
              "      <td>0.0</td>\n",
              "      <td>1.0</td>\n",
              "      <td>1.0</td>\n",
              "      <td>1.0</td>\n",
              "      <td>0.0</td>\n",
              "    </tr>\n",
              "  </tbody>\n",
              "</table>\n",
              "<p>2449 rows × 78 columns</p>\n",
              "</div>\n",
              "    <div class=\"colab-df-buttons\">\n",
              "\n",
              "  <div class=\"colab-df-container\">\n",
              "    <button class=\"colab-df-convert\" onclick=\"convertToInteractive('df-63107c2e-bcb2-4e2d-9905-0deed538535f')\"\n",
              "            title=\"Convert this dataframe to an interactive table.\"\n",
              "            style=\"display:none;\">\n",
              "\n",
              "  <svg xmlns=\"http://www.w3.org/2000/svg\" height=\"24px\" viewBox=\"0 -960 960 960\">\n",
              "    <path d=\"M120-120v-720h720v720H120Zm60-500h600v-160H180v160Zm220 220h160v-160H400v160Zm0 220h160v-160H400v160ZM180-400h160v-160H180v160Zm440 0h160v-160H620v160ZM180-180h160v-160H180v160Zm440 0h160v-160H620v160Z\"/>\n",
              "  </svg>\n",
              "    </button>\n",
              "\n",
              "  <style>\n",
              "    .colab-df-container {\n",
              "      display:flex;\n",
              "      gap: 12px;\n",
              "    }\n",
              "\n",
              "    .colab-df-convert {\n",
              "      background-color: #E8F0FE;\n",
              "      border: none;\n",
              "      border-radius: 50%;\n",
              "      cursor: pointer;\n",
              "      display: none;\n",
              "      fill: #1967D2;\n",
              "      height: 32px;\n",
              "      padding: 0 0 0 0;\n",
              "      width: 32px;\n",
              "    }\n",
              "\n",
              "    .colab-df-convert:hover {\n",
              "      background-color: #E2EBFA;\n",
              "      box-shadow: 0px 1px 2px rgba(60, 64, 67, 0.3), 0px 1px 3px 1px rgba(60, 64, 67, 0.15);\n",
              "      fill: #174EA6;\n",
              "    }\n",
              "\n",
              "    .colab-df-buttons div {\n",
              "      margin-bottom: 4px;\n",
              "    }\n",
              "\n",
              "    [theme=dark] .colab-df-convert {\n",
              "      background-color: #3B4455;\n",
              "      fill: #D2E3FC;\n",
              "    }\n",
              "\n",
              "    [theme=dark] .colab-df-convert:hover {\n",
              "      background-color: #434B5C;\n",
              "      box-shadow: 0px 1px 3px 1px rgba(0, 0, 0, 0.15);\n",
              "      filter: drop-shadow(0px 1px 2px rgba(0, 0, 0, 0.3));\n",
              "      fill: #FFFFFF;\n",
              "    }\n",
              "  </style>\n",
              "\n",
              "    <script>\n",
              "      const buttonEl =\n",
              "        document.querySelector('#df-63107c2e-bcb2-4e2d-9905-0deed538535f button.colab-df-convert');\n",
              "      buttonEl.style.display =\n",
              "        google.colab.kernel.accessAllowed ? 'block' : 'none';\n",
              "\n",
              "      async function convertToInteractive(key) {\n",
              "        const element = document.querySelector('#df-63107c2e-bcb2-4e2d-9905-0deed538535f');\n",
              "        const dataTable =\n",
              "          await google.colab.kernel.invokeFunction('convertToInteractive',\n",
              "                                                    [key], {});\n",
              "        if (!dataTable) return;\n",
              "\n",
              "        const docLinkHtml = 'Like what you see? Visit the ' +\n",
              "          '<a target=\"_blank\" href=https://colab.research.google.com/notebooks/data_table.ipynb>data table notebook</a>'\n",
              "          + ' to learn more about interactive tables.';\n",
              "        element.innerHTML = '';\n",
              "        dataTable['output_type'] = 'display_data';\n",
              "        await google.colab.output.renderOutput(dataTable, element);\n",
              "        const docLink = document.createElement('div');\n",
              "        docLink.innerHTML = docLinkHtml;\n",
              "        element.appendChild(docLink);\n",
              "      }\n",
              "    </script>\n",
              "  </div>\n",
              "\n",
              "\n",
              "<div id=\"df-bdf017a7-638e-4a47-9d1c-aa13c0d6762f\">\n",
              "  <button class=\"colab-df-quickchart\" onclick=\"quickchart('df-bdf017a7-638e-4a47-9d1c-aa13c0d6762f')\"\n",
              "            title=\"Suggest charts\"\n",
              "            style=\"display:none;\">\n",
              "\n",
              "<svg xmlns=\"http://www.w3.org/2000/svg\" height=\"24px\"viewBox=\"0 0 24 24\"\n",
              "     width=\"24px\">\n",
              "    <g>\n",
              "        <path d=\"M19 3H5c-1.1 0-2 .9-2 2v14c0 1.1.9 2 2 2h14c1.1 0 2-.9 2-2V5c0-1.1-.9-2-2-2zM9 17H7v-7h2v7zm4 0h-2V7h2v10zm4 0h-2v-4h2v4z\"/>\n",
              "    </g>\n",
              "</svg>\n",
              "  </button>\n",
              "\n",
              "<style>\n",
              "  .colab-df-quickchart {\n",
              "      --bg-color: #E8F0FE;\n",
              "      --fill-color: #1967D2;\n",
              "      --hover-bg-color: #E2EBFA;\n",
              "      --hover-fill-color: #174EA6;\n",
              "      --disabled-fill-color: #AAA;\n",
              "      --disabled-bg-color: #DDD;\n",
              "  }\n",
              "\n",
              "  [theme=dark] .colab-df-quickchart {\n",
              "      --bg-color: #3B4455;\n",
              "      --fill-color: #D2E3FC;\n",
              "      --hover-bg-color: #434B5C;\n",
              "      --hover-fill-color: #FFFFFF;\n",
              "      --disabled-bg-color: #3B4455;\n",
              "      --disabled-fill-color: #666;\n",
              "  }\n",
              "\n",
              "  .colab-df-quickchart {\n",
              "    background-color: var(--bg-color);\n",
              "    border: none;\n",
              "    border-radius: 50%;\n",
              "    cursor: pointer;\n",
              "    display: none;\n",
              "    fill: var(--fill-color);\n",
              "    height: 32px;\n",
              "    padding: 0;\n",
              "    width: 32px;\n",
              "  }\n",
              "\n",
              "  .colab-df-quickchart:hover {\n",
              "    background-color: var(--hover-bg-color);\n",
              "    box-shadow: 0 1px 2px rgba(60, 64, 67, 0.3), 0 1px 3px 1px rgba(60, 64, 67, 0.15);\n",
              "    fill: var(--button-hover-fill-color);\n",
              "  }\n",
              "\n",
              "  .colab-df-quickchart-complete:disabled,\n",
              "  .colab-df-quickchart-complete:disabled:hover {\n",
              "    background-color: var(--disabled-bg-color);\n",
              "    fill: var(--disabled-fill-color);\n",
              "    box-shadow: none;\n",
              "  }\n",
              "\n",
              "  .colab-df-spinner {\n",
              "    border: 2px solid var(--fill-color);\n",
              "    border-color: transparent;\n",
              "    border-bottom-color: var(--fill-color);\n",
              "    animation:\n",
              "      spin 1s steps(1) infinite;\n",
              "  }\n",
              "\n",
              "  @keyframes spin {\n",
              "    0% {\n",
              "      border-color: transparent;\n",
              "      border-bottom-color: var(--fill-color);\n",
              "      border-left-color: var(--fill-color);\n",
              "    }\n",
              "    20% {\n",
              "      border-color: transparent;\n",
              "      border-left-color: var(--fill-color);\n",
              "      border-top-color: var(--fill-color);\n",
              "    }\n",
              "    30% {\n",
              "      border-color: transparent;\n",
              "      border-left-color: var(--fill-color);\n",
              "      border-top-color: var(--fill-color);\n",
              "      border-right-color: var(--fill-color);\n",
              "    }\n",
              "    40% {\n",
              "      border-color: transparent;\n",
              "      border-right-color: var(--fill-color);\n",
              "      border-top-color: var(--fill-color);\n",
              "    }\n",
              "    60% {\n",
              "      border-color: transparent;\n",
              "      border-right-color: var(--fill-color);\n",
              "    }\n",
              "    80% {\n",
              "      border-color: transparent;\n",
              "      border-right-color: var(--fill-color);\n",
              "      border-bottom-color: var(--fill-color);\n",
              "    }\n",
              "    90% {\n",
              "      border-color: transparent;\n",
              "      border-bottom-color: var(--fill-color);\n",
              "    }\n",
              "  }\n",
              "</style>\n",
              "\n",
              "  <script>\n",
              "    async function quickchart(key) {\n",
              "      const quickchartButtonEl =\n",
              "        document.querySelector('#' + key + ' button');\n",
              "      quickchartButtonEl.disabled = true;  // To prevent multiple clicks.\n",
              "      quickchartButtonEl.classList.add('colab-df-spinner');\n",
              "      try {\n",
              "        const charts = await google.colab.kernel.invokeFunction(\n",
              "            'suggestCharts', [key], {});\n",
              "      } catch (error) {\n",
              "        console.error('Error during call to suggestCharts:', error);\n",
              "      }\n",
              "      quickchartButtonEl.classList.remove('colab-df-spinner');\n",
              "      quickchartButtonEl.classList.add('colab-df-quickchart-complete');\n",
              "    }\n",
              "    (() => {\n",
              "      let quickchartButtonEl =\n",
              "        document.querySelector('#df-bdf017a7-638e-4a47-9d1c-aa13c0d6762f button');\n",
              "      quickchartButtonEl.style.display =\n",
              "        google.colab.kernel.accessAllowed ? 'block' : 'none';\n",
              "    })();\n",
              "  </script>\n",
              "</div>\n",
              "    </div>\n",
              "  </div>\n"
            ]
          },
          "metadata": {},
          "execution_count": 3
        }
      ],
      "source": [
        "# 1. Reading data set and prepping it again\n",
        "df = pd.read_hdf('/content/drive/My Drive/TFG_models/RICO1_Dataset.hdf', key='all')\n",
        "df['_time'] = pd.to_datetime(df['_time'])\n",
        "df.set_index('_time', inplace=True)\n",
        "\n",
        "df = df.resample('10T').mean()\n",
        "df"
      ]
    },
    {
      "cell_type": "markdown",
      "source": [
        "## 2.2. Data preprocessing\n",
        "Including:\n",
        "- correlations regarding B.RTD1\n",
        "- spliting data before normalisation to avoid data leakage\n",
        "- scaling / normalising data\n",
        "- create a dataset suitable for LSTM training"
      ],
      "metadata": {
        "id": "ZgwwtBTisO97"
      }
    },
    {
      "cell_type": "code",
      "source": [
        "def most_useful_features():\n",
        "  # Calculate mutual information scores\n",
        "  mi_scores = mutual_info_regression(X, y)\n",
        "\n",
        "  # Create a Series to visualize the scores\n",
        "  mi_scores_series = pd.Series(mi_scores, index=X.columns)\n",
        "\n",
        "  # Sort the scores\n",
        "  mi_scores_series = mi_scores_series.sort_values(ascending=False)\n",
        "\n",
        "  # Plotting\n",
        "  mi_scores_series.plot(kind='bar')\n",
        "  plt.title('Mutual Information Scores')\n",
        "  plt.ylabel('Mutual Information Score')\n",
        "  plt.xlabel('Features')\n",
        "\n",
        "  # Save the figure\n",
        "  plt.savefig(os.path.join(save_path, f'Feature_Information.jpeg'))\n",
        "  print(f'Feature Information saved!')\n",
        "\n",
        "  plt.show()\n",
        "  plt.close()\n",
        "\n",
        "  return mi_scores_series\n",
        "\n",
        "top_scores = most_useful_features()\n",
        "\n",
        "# Select top N features based on mutual information scores\n",
        "top_n_features = top_scores.head(5).index\n",
        "\n",
        "# Subset your features based on the selection\n",
        "X_selected = X[top_n_features]\n",
        "print(top_n_features)"
      ],
      "metadata": {
        "colab": {
          "base_uri": "https://localhost:8080/",
          "height": 676
        },
        "id": "RJZZ0gLRnpmu",
        "outputId": "11734a80-4abb-4136-bb4b-c5ad404ce378"
      },
      "execution_count": null,
      "outputs": [
        {
          "output_type": "stream",
          "name": "stdout",
          "text": [
            "Feature Information saved!\n"
          ]
        },
        {
          "output_type": "display_data",
          "data": {
            "text/plain": [
              "<Figure size 640x480 with 1 Axes>"
            ],
            "image/png": "[encoded data removed]"
          },
          "metadata": {}
        },
        {
          "output_type": "stream",
          "name": "stdout",
          "text": [
            "Index(['B.RTD2', 'B.RTD3', 'BT.SIW_8', 'BT.SIE_8', 'BT.SIW_7'], dtype='object')\n"
          ]
        }
      ]
    },
    {
      "cell_type": "markdown",
      "source": [
        "### 2.2.1 Splitting train and target data"
      ],
      "metadata": {
        "id": "e8Irup6dyBNk"
      }
    },
    {
      "cell_type": "code",
      "source": [
        "X = df.drop(['B.RTD1'], axis=1)\n",
        "y = df['B.RTD1']\n",
        "\n",
        "X_train, X_test, y_train, y_test = train_test_split(X, y, test_size=0.2, random_state=42, shuffle=False)"
      ],
      "metadata": {
        "id": "wPIwKwDAyIU4"
      },
      "execution_count": null,
      "outputs": []
    },
    {
      "cell_type": "markdown",
      "source": [
        "### 2.2.2 Scaling / Normalising data"
      ],
      "metadata": {
        "id": "zDm0tShfyFoL"
      }
    },
    {
      "cell_type": "code",
      "source": [
        "scaler_x = RobustScaler()\n",
        "scaler_y = RobustScaler()\n",
        "\n",
        "X_train_scaled = scaler_x.fit_transform(X_train)\n",
        "X_test_scaled = scaler_x.transform(X_test)\n",
        "y_train_scaled = scaler_y.fit_transform(y_train.values.reshape(-1, 1))\n",
        "y_test_scaled = scaler_y.transform(y_test.values.reshape(-1, 1))"
      ],
      "metadata": {
        "id": "UrHQSG8ww-nV"
      },
      "execution_count": null,
      "outputs": []
    },
    {
      "cell_type": "markdown",
      "source": [
        "### 2.2.3 Suitable dataset"
      ],
      "metadata": {
        "id": "06Q5d8FbDYo9"
      }
    },
    {
      "cell_type": "code",
      "source": [
        "# Function to create a dataset suitable for LSTM training\n",
        "def create_dataset(X, y, time_steps):\n",
        "    Xs, ys = [], []\n",
        "    for i in range(len(X) - time_steps):\n",
        "        v = X[i:(i + time_steps), :]\n",
        "        Xs.append(v)\n",
        "        ys.append(y[i + time_steps])\n",
        "    return np.array(Xs), np.array(ys)\n",
        "\n",
        "# Define the time_steps (look_back)\n",
        "time_steps = 20\n",
        "\n",
        "# Prepare the input X and the output y for the LSTM model\n",
        "X_train_seq, y_train_seq = create_dataset(X_train_scaled, y_train_scaled.flatten(), time_steps)\n",
        "X_test_seq, y_test_seq = create_dataset(X_test_scaled, y_test_scaled.flatten(), time_steps)\n"
      ],
      "metadata": {
        "id": "v6v_Hwg-Dja-",
        "colab": {
          "base_uri": "https://localhost:8080/"
        },
        "outputId": "c1c9da68-39df-4f65-9551-ed8fd8f8d45d"
      },
      "execution_count": null,
      "outputs": [
        {
          "output_type": "execute_result",
          "data": {
            "text/plain": [
              "(1939,)"
            ]
          },
          "metadata": {},
          "execution_count": 10
        }
      ]
    },
    {
      "cell_type": "markdown",
      "source": [
        "## 2.3 Building, training, predicting and evaluating LSTM model"
      ],
      "metadata": {
        "id": "J1fN3NGjDj3M"
      }
    },
    {
      "cell_type": "markdown",
      "source": [
        "### 2.3.1 Model A"
      ],
      "metadata": {
        "id": "oU8NBqvwSAvX"
      }
    },
    {
      "cell_type": "markdown",
      "source": [
        "#### Model A - Building\n",
        "\n",
        "In this part, we will experiment with different kinds of:\n",
        "  - model architectures,\n",
        "  - learning rates,\n",
        "  - dropout rates,\n",
        "  - activation functions,\n",
        "  - number of epochs and,\n",
        "  - batch sizes\n",
        "\n",
        "as well as other hyperparameters to obtain the best possible forecasts."
      ],
      "metadata": {
        "id": "a0hZNbuKSAvc"
      }
    },
    {
      "cell_type": "code",
      "source": [
        "modelA = Sequential()\n",
        "modelA.add(LSTM(50, activation='relu', input_shape=(X_train_seq.shape[1], X_train_seq.shape[2])))\n",
        "modelA.add(Dense(1))\n",
        "modelA.compile(optimizer=Adam(learning_rate=0.01), loss=MeanSquaredError())\n",
        "#model1.summary()\n",
        "\n",
        "# Training configuration\n",
        "configA = {\n",
        "    'batch_size': 64,\n",
        "    'epochs': 25,\n",
        "    'learning_rate': 0.01\n",
        "}\n",
        "\n",
        "# Compile\n",
        "modelA.compile(loss=MeanSquaredError(),optimizer=Adam(learning_rate=configA['learning_rate']))\n",
        "\n",
        "cpA = ModelCheckpoint('/content/drive/My Drive/TFG_models/modelA/', save_best_only=True) # lowest val_loss\n",
        "\n",
        "fit_model(modelA, (X_train,y_train), configA, cpA, val_data=(X_test_seq,y_test_seq))\n",
        "train_result = predicting(df, modelA, X_train, y_train , cpA)\n",
        "scoresA, mseA = evaluation(modelA, train_result, (X_test,y_test))"
      ],
      "metadata": {
        "id": "dlOZLfH3SAvc"
      },
      "execution_count": null,
      "outputs": []
    },
    {
      "cell_type": "markdown",
      "source": [
        "#### Model A - Training"
      ],
      "metadata": {
        "id": "k4MZzIZQSAvd"
      }
    },
    {
      "cell_type": "code",
      "source": [
        "histA = modelA.fit(X_train,y_train, validation_split=0.2, epochs=configA['epochs'], batch_size=configA['batch_size'], callbacks=[cpA])\n",
        "\n",
        "# Plot the training and validation loss\n",
        "plt.plot(histA.history['loss'], label='Training Loss')\n",
        "plt.plot(histA.history['val_loss'], label='Validation Loss')\n",
        "plt.title('[2] Model A -  Loss plot')\n",
        "plt.xlabel('Epoch')\n",
        "plt.ylabel('Loss')\n",
        "plt.legend(loc='best')\n",
        "# Save the figure\n",
        "time = datetime.now().strftime('%d_%H%M')\n",
        "plt.savefig(os.path.join(save_path, f'2_ModelA_Loss_Plot_{time}.jpeg'))\n",
        "print(f'2 - Model A loss plot saved!')\n",
        "plt.show()\n",
        "plt.close()"
      ],
      "metadata": {
        "colab": {
          "base_uri": "https://localhost:8080/"
        },
        "outputId": "673106a6-b939-4d18-ae90-03a8524cbff5",
        "id": "BNn-WcurSAvd"
      },
      "execution_count": null,
      "outputs": [
        {
          "output_type": "stream",
          "name": "stdout",
          "text": [
            "Epoch 1/20\n",
            "65/65 [==============================] - 8s 80ms/step - loss: 0.0550 - val_loss: 0.0011\n",
            "Epoch 2/20\n",
            "65/65 [==============================] - 6s 95ms/step - loss: 0.0021 - val_loss: 5.1983e-04\n",
            "Epoch 3/20\n",
            "65/65 [==============================] - 5s 81ms/step - loss: 0.0016 - val_loss: 4.4263e-04\n",
            "Epoch 4/20\n",
            "65/65 [==============================] - 1s 16ms/step - loss: 0.0012 - val_loss: 8.4459e-04\n",
            "Epoch 5/20\n",
            "65/65 [==============================] - 4s 69ms/step - loss: 7.3957e-04 - val_loss: 4.1809e-04\n",
            "Epoch 6/20\n",
            "65/65 [==============================] - 6s 91ms/step - loss: 5.4397e-04 - val_loss: 2.3856e-04\n",
            "Epoch 7/20\n",
            "65/65 [==============================] - 2s 24ms/step - loss: 4.8421e-04 - val_loss: 3.0219e-04\n",
            "Epoch 8/20\n",
            "65/65 [==============================] - 5s 76ms/step - loss: 3.9443e-04 - val_loss: 1.5714e-04\n",
            "Epoch 9/20\n",
            "65/65 [==============================] - 1s 17ms/step - loss: 3.7620e-04 - val_loss: 1.6198e-04\n",
            "Epoch 10/20\n",
            "65/65 [==============================] - 1s 15ms/step - loss: 4.0442e-04 - val_loss: 6.6573e-04\n",
            "Epoch 11/20\n",
            "65/65 [==============================] - 15s 232ms/step - loss: 3.2762e-04 - val_loss: 1.0093e-04\n",
            "Epoch 12/20\n",
            "65/65 [==============================] - 13s 208ms/step - loss: 2.7830e-04 - val_loss: 9.3291e-05\n",
            "Epoch 13/20\n",
            "65/65 [==============================] - 2s 36ms/step - loss: 2.8022e-04 - val_loss: 9.5480e-05\n",
            "Epoch 14/20\n",
            "65/65 [==============================] - 7s 116ms/step - loss: 2.2103e-04 - val_loss: 8.9197e-05\n",
            "Epoch 15/20\n",
            "65/65 [==============================] - 3s 50ms/step - loss: 2.5535e-04 - val_loss: 1.2323e-04\n",
            "Epoch 16/20\n",
            "65/65 [==============================] - 3s 52ms/step - loss: 1.9358e-04 - val_loss: 2.2679e-04\n",
            "Epoch 17/20\n",
            "65/65 [==============================] - 4s 55ms/step - loss: 2.6576e-04 - val_loss: 1.4906e-04\n",
            "Epoch 18/20\n",
            "52/65 [=======================>......] - ETA: 0s - loss: 1.4856e-04"
          ]
        }
      ]
    },
    {
      "cell_type": "markdown",
      "source": [
        "#### Model A - Predicting"
      ],
      "metadata": {
        "id": "t9gYuQl0SAvd"
      }
    },
    {
      "cell_type": "code",
      "source": [
        "modelA = load_model('/content/drive/My Drive/TFG_models/1_model1/')\n",
        "\n",
        "train_pred_A = modelA.predict(X_train).flatten()\n",
        "y_train = y_train.flatten()\n",
        "train_result_A = pd.DataFrame(data={'Predictions':train_pred_A, 'Actuals': y_train} )\n",
        "train_result_A[['Predictions', 'Actuals']] = scaler.inverse_transform(train_result_A[['Predictions', 'Actuals']])\n",
        "train_result_A\n",
        "\n",
        "# Plot the prediction loss\n",
        "plt.plot(df.index[:1940], train_result_A['Predictions'], label='Prediction')\n",
        "plt.plot(df.index[:1940], train_result_A['Actuals'], label='Original')\n",
        "plt.title('[2] Model A -  Prediction plot')\n",
        "plt.xlabel('Time')\n",
        "plt.ylabel('Temperature (C)')\n",
        "plt.legend(loc='best')\n",
        "\n",
        "# Save the figure\n",
        "time = datetime.now().strftime('%d_%H%M')\n",
        "plt.savefig(os.path.join(save_path, f'1_ModelA_Prediction_Plot_{time}.jpeg'))\n",
        "print(f'2 - Model A prediction plot saved!')\n",
        "\n",
        "plt.show()\n",
        "plt.close()\n"
      ],
      "metadata": {
        "id": "IqU2QQazSAvd"
      },
      "execution_count": null,
      "outputs": []
    },
    {
      "cell_type": "markdown",
      "source": [
        "#### Model A - Evaluating"
      ],
      "metadata": {
        "id": "lpdKBx_0SAvd"
      }
    },
    {
      "cell_type": "code",
      "source": [
        "scoresA = modelA.evaluate(X_test,y_test)\n",
        "\n",
        "mseA = mean_squared_error(train_result_A['Actuals'], train_result_A['Predictions'])\n",
        "print(f'Model A Results: \\n Loss: {scoresA} \\n MSE : {mseA}')"
      ],
      "metadata": {
        "id": "adyWjtUISAvd"
      },
      "execution_count": null,
      "outputs": []
    },
    {
      "cell_type": "markdown",
      "source": [
        "### 2.3.2 Model B"
      ],
      "metadata": {
        "id": "iDHFpdt-R8Pd"
      }
    },
    {
      "cell_type": "markdown",
      "source": [
        "#### Model B -  Building"
      ],
      "metadata": {
        "id": "wMWRUoWZR8Pe"
      }
    },
    {
      "cell_type": "code",
      "source": [
        "modelB = Sequential()\n",
        "modelB.add(LSTM(32, activation='relu', input_shape=(X_train_seq.shape[1], X_train_seq.shape[2]), return_sequences=True))\n",
        "modelB.add(BatchNormalization())\n",
        "modelB.add(Dropout(0.2))\n",
        "modelB.add(LSTM(32, activation='relu', return_sequences=False))\n",
        "modelB.add(BatchNormalization())\n",
        "modelB.add(Dropout(0.2))\n",
        "modelB.add(Dense(16, activation='relu'))\n",
        "modelB.add(Dense(1, activation='linear'))\n",
        "\n",
        "\n",
        "# Training configuration\n",
        "configB = {\n",
        "    'batch_size': 64,\n",
        "    'epochs': 25,\n",
        "    'learning_rate': 0.01\n",
        "}\n",
        "\n",
        "modelB.compile(loss=MeanSquaredError(),optimizer=Adam(learning_rate=configB['learning_rate']))\n",
        "\n",
        "cpB = ModelCheckpoint('/content/drive/My Drive/TFG_models/modelB/', save_best_only=True)\n",
        "\n",
        "fit_model(modelB, (X_train,y_train), configB, cpB, val_data=(X_test_seq,y_test_seq))\n",
        "train_result = predicting(df, modelB, X_train, y_train , cpB)\n",
        "scoresB, mseB = evaluation(modelB, train_result, (X_test,y_test))\n"
      ],
      "metadata": {
        "id": "aPJDnEw0R8Pe"
      },
      "execution_count": null,
      "outputs": []
    },
    {
      "cell_type": "markdown",
      "source": [
        "#### Model B - Training"
      ],
      "metadata": {
        "id": "lNxT-3DPR8Pe"
      }
    },
    {
      "cell_type": "code",
      "source": [
        "histB = modelB.fit(X_train,y_train, validation_split=0.2, epochs=configB['epochs'], batch_size=configB['batch_size'], callbacks=[cpB])\n",
        "\n",
        "# Plot the training and validation loss\n",
        "plt.plot(histB.history['loss'], label='Training Loss')\n",
        "plt.plot(histB.history['val_loss'], label='Validation Loss')\n",
        "plt.title('[2] Model B -  Loss plot')\n",
        "plt.xlabel('Epoch')\n",
        "plt.ylabel('Loss')\n",
        "plt.legend(loc='best')\n",
        "\n",
        "# Save the figure\n",
        "time = datetime.now().strftime('%d_%H%M')\n",
        "plt.savefig(os.path.join(save_path, f'2_ModelB_Loss_Plot_{time}.jpeg'))\n",
        "print(f'2 - Model B loss plot saved!')\n",
        "\n",
        "plt.show()\n",
        "plt.close()"
      ],
      "metadata": {
        "id": "uzH7EYA-R8Pe"
      },
      "execution_count": null,
      "outputs": []
    },
    {
      "cell_type": "markdown",
      "source": [
        "#### Model B -  Predicting"
      ],
      "metadata": {
        "id": "VGfhs7jHR8Pe"
      }
    },
    {
      "cell_type": "code",
      "source": [
        "modelB = load_model('/content/drive/My Drive/TFG_models/modelB/')\n",
        "\n",
        "train_pred_B = modelB.predict(X_train).flatten()\n",
        "y_train = y_train.flatten()\n",
        "train_result_B = pd.DataFrame(data={'Predictions':train_pred_B, 'Actuals': y_train} )\n",
        "train_result_B[['Predictions', 'Actuals']] = scaler.inverse_transform(train_result_B[['Predictions', 'Actuals']])\n",
        "train_result_B\n",
        "\n",
        "# Plot the prediction loss\n",
        "plt.plot(df.index[:1940], train_result_B['Predictions'], label='Prediction')\n",
        "plt.plot(df.index[:1940], train_result_B['Actuals'], label='Original')\n",
        "plt.title('[2] Model B -  Prediction plot')\n",
        "plt.xlabel('Time')\n",
        "plt.ylabel('Temperature (C)')\n",
        "plt.legend(loc='best')\n",
        "\n",
        "# Save the figure\n",
        "time = datetime.now().strftime('%d_%H%M')\n",
        "plt.savefig(os.path.join(save_path, f'2_ModelB_Prediction_Plot_{time}.jpeg'))\n",
        "print(f'2 - Model B prediction plot saved!')\n",
        "\n",
        "plt.show()\n",
        "plt.close()"
      ],
      "metadata": {
        "id": "rMR18IVRR8Pe"
      },
      "execution_count": null,
      "outputs": []
    },
    {
      "cell_type": "markdown",
      "source": [
        "#### Model B - Evaluating"
      ],
      "metadata": {
        "id": "PDc0b-VQR8Pe"
      }
    },
    {
      "cell_type": "code",
      "source": [
        "scoresB = modelB.evaluate(X_test,y_test)\n",
        "print(scoresB)\n",
        "\n",
        "mseB = mean_squared_error(train_result_B['Actuals'], train_result_B['Predictions'])\n",
        "print(f'Model B Results: \\n Loss: {scoresB} \\n MSE : {mseB}')\n"
      ],
      "metadata": {
        "id": "QmrbG-OlR8Pf"
      },
      "execution_count": null,
      "outputs": []
    },
    {
      "cell_type": "code",
      "source": [
        "def fit_model(model, save_path, text):\n",
        "  print(f'Fiting model{text}...')\n",
        "  # Fit the model\n",
        "  history = model.fit(\n",
        "      X_train_seq,\n",
        "      y_train_seq,\n",
        "      epochs=25,\n",
        "      batch_size=64,\n",
        "      validation_data=(X_test_seq, y_test_seq),\n",
        "      verbose=1\n",
        "  )\n",
        "\n",
        "  # Plot the training and validation loss\n",
        "  plt.plot(history.history['loss'], label='Training Loss')\n",
        "  plt.plot(history.history['val_loss'], label='Validation Loss')\n",
        "  plt.xlabel('Epoch')\n",
        "  plt.ylabel('Loss')\n",
        "  plt.title(f'Model {text} - Loss Plot')\n",
        "  plt.legend(loc='best')\n",
        "  plt.show()\n",
        "  plt.close()\n",
        "\n",
        "  # Ensure the directory exists\n",
        "  os.makedirs(save_path, exist_ok=True)\n",
        "  # Save the figure\n",
        "  time = datetime.now().strftime('%d_%H%M')\n",
        "  plt.savefig(os.path.join(save_path, f'2_Loss_Model{text}_{time}.jpg'))\n",
        "  print(f'Loss plot for model{text} saved!')\n",
        "\n",
        "def predict_plot(model, save_path, text):\n",
        "  print(f'Predicting model{text}...')\n",
        "  # Predict and inverse transform the predictions to get them back to the original scale\n",
        "  y_pred_scaled = model.predict(X_test_seq)\n",
        "  y_pred = scaler_y.inverse_transform(y_pred_scaled)\n",
        "\n",
        "  # Inverse transform the actual test y values for comparison\n",
        "  y_test_actual = scaler_y.inverse_transform(y_test_seq.reshape(-1, 1))\n",
        "\n",
        "  # Calculating the start and end indices for test timestamps\n",
        "  start_idx = X_train.shape[0] + time_steps\n",
        "  end_idx = start_idx + y_test_actual.shape[0]\n",
        "\n",
        "  # Retrieving the relevant timestamps\n",
        "  test_timestamps = df.index[start_idx:end_idx]\n",
        "\n",
        "  results = pd.DataFrame({\n",
        "      'Actual': y_test_actual.flatten(),\n",
        "      'Predicted': y_pred.flatten()\n",
        "  }, index=test_timestamps)\n",
        "\n",
        "  plt.plot(results['Actual'], label='Actual', color='blue')\n",
        "  plt.plot(results['Predicted'], label='Predicted', color='red')\n",
        "  plt.title(f'[2] Model {text} - Actual vs Predicted')\n",
        "  plt.xlabel('Time')\n",
        "  plt.ylabel('Value')\n",
        "  plt.legend()\n",
        "  plt.show()\n",
        "  plt.close()\n",
        "\n",
        "  # Ensure the directory exists\n",
        "  os.makedirs(save_path, exist_ok=True)\n",
        "  # Save the figure\n",
        "  plt.savefig(os.path.join(save_path, f'Prediction_plot_model{text}_{time}.jpg'))\n",
        "  print(f'Predition plot for model{text} saved!')\n",
        "\n",
        "  return y_test_actual, y_pred\n",
        "\n",
        "def performance( y_test_actual, y_pred, text):\n",
        "  # Now you can use y_pred and y_test_actual to calculate performance metrics or analyze your predictions.\n",
        "  print(f'Calculating performance for model{text}... ')\n",
        "  mse = mean_squared_error(y_test_actual, y_pred)\n",
        "  print(f'Model{text} MSE: {mse}')\n",
        "\n",
        "#################################################### END - FUNCTIONS ####################################################\n",
        "\n",
        "\n",
        "\n",
        "# Build the LSTM model\n",
        "modelA = Sequential()\n",
        "modelA.add(LSTM(50, activation='relu', input_shape=(X_train_seq.shape[1], X_train_seq.shape[2])))\n",
        "modelA.add(Dense(1))\n",
        "modelA.compile(optimizer=Adam(learning_rate=0.01), loss=MeanSquaredError())\n",
        "\n",
        "####################################################################################################################\n",
        "modelB = Sequential()\n",
        "modelB.add(LSTM(32, activation='relu', input_shape=(X_train_seq.shape[1], X_train_seq.shape[2]), return_sequences=True))\n",
        "modelB.add(BatchNormalization())\n",
        "modelB.add(Dropout(0.2))\n",
        "modelB.add(LSTM(32, activation='relu', return_sequences=False))\n",
        "modelB.add(BatchNormalization())\n",
        "modelB.add(Dropout(0.2))\n",
        "modelB.add(Dense(16, activation='relu'))\n",
        "modelB.add(Dense(1, activation='linear'))\n",
        "modelB.compile(loss=MeanSquaredError(),optimizer=Adam(learning_rate=0.01))\n",
        "\n",
        "####################################################################################################################\n",
        "modelC = Sequential()\n",
        "modelC.add(LSTM(50, activation='tanh', input_shape=(X_train_seq.shape[1], X_train_seq.shape[2]), return_sequences=True))\n",
        "modelC.add(BatchNormalization())\n",
        "modelC.add(Dropout(0.2))\n",
        "modelC.add(LSTM(20, activation='tanh'))\n",
        "modelC.add(BatchNormalization())\n",
        "modelC.add(Dropout(0.2))\n",
        "modelC.add(Dense(1))\n",
        "modelC.compile(loss=MeanSquaredError(),optimizer=Adam(learning_rate=0.005))\n",
        "\n",
        "fit_model(modelA, save_path, 'A')\n",
        "y_test_acual_A, y_pred_A = predict_plot(modelA, save_path, 'A')\n",
        "performance(y_test_acual_A, y_pred_A,'A')\n",
        "\n",
        "\n",
        "fit_model(modelB, save_path, 'B')\n",
        "y_test_acual_B, y_pred_B = predict_plot(modelA, save_path, 'B')\n",
        "performance(y_test_acual_B, y_pred_B,'B')\n",
        "\n",
        "\n",
        "fit_model(modelC, save_path, 'C')\n",
        "y_test_acual_C, y_pred_C = predict_plot(modelA, save_path, 'C')\n",
        "performance(y_test_acual_C, y_pred_C,'C')"
      ],
      "metadata": {
        "id": "-tALtLxQXdxN"
      },
      "execution_count": null,
      "outputs": []
    },
    {
      "cell_type": "markdown",
      "source": [
        "### 2.3.2 Model C"
      ],
      "metadata": {
        "id": "WKILl7qqTXfC"
      }
    },
    {
      "cell_type": "markdown",
      "source": [
        "#### Model C -  Building"
      ],
      "metadata": {
        "id": "N91jUmX_TXfO"
      }
    },
    {
      "cell_type": "code",
      "source": [
        "modelC = Sequential()\n",
        "modelC.add(LSTM(50, activation='tanh', input_shape=(X_train_seq.shape[1], X_train_seq.shape[2]), return_sequences=True))\n",
        "modelC.add(BatchNormalization())\n",
        "modelC.add(Dropout(0.2))\n",
        "modelC.add(LSTM(20, activation='tanh'))\n",
        "modelC.add(BatchNormalization())\n",
        "modelC.add(Dropout(0.2))\n",
        "modelC.add(Dense(1))\n",
        "\n",
        "# Training configuration\n",
        "configC = {\n",
        "    'batch_size': 64,\n",
        "    'epochs': 25,\n",
        "    'learning_rate': 0.005\n",
        "}\n",
        "\n",
        "modelB.compile(loss=MeanSquaredError(),optimizer=Adam(learning_rate=configC['learning_rate']))\n",
        "\n",
        "cpC = ModelCheckpoint('/content/drive/My Drive/TFG_models/modelC/', save_best_only=True)\n",
        "\n",
        "fit_model(modelC, (X_train,y_train), configA, cpC, val_data=(X_test_seq,y_test_seq))\n",
        "train_result = predicting(df, modelC, X_train, y_train , cpC)\n",
        "scoresC, mseC = evaluation(modelC, train_result, (X_test,y_test))\n"
      ],
      "metadata": {
        "id": "6P0zfSTfTXfO"
      },
      "execution_count": null,
      "outputs": []
    },
    {
      "cell_type": "markdown",
      "source": [
        "#### Model C - Training"
      ],
      "metadata": {
        "id": "MLNVmphvTXfP"
      }
    },
    {
      "cell_type": "code",
      "source": [
        "histC = modelC.fit(X_train,y_train, validation_split=0.2, epochs=configC['epochs'], batch_size=configC['batch_size'], callbacks=[cpC])\n",
        "\n",
        "# Plot the training and validation loss\n",
        "plt.plot(histC.history['loss'], label='Training Loss')\n",
        "plt.plot(histC.history['val_loss'], label='Validation Loss')\n",
        "plt.title('[2] Model C -  Loss plot')\n",
        "plt.xlabel('Epoch')\n",
        "plt.ylabel('Loss')\n",
        "plt.legend(loc='best')\n",
        "\n",
        "# Save the figure\n",
        "time = datetime.now().strftime('%d_%H%M')\n",
        "plt.savefig(os.path.join(save_path, f'2_ModelC_Loss_Plot_{time}.jpeg'))\n",
        "print(f'2 - Model C loss plot saved!')\n",
        "\n",
        "plt.show()\n",
        "plt.close()"
      ],
      "metadata": {
        "id": "AVDpssN2TXfP"
      },
      "execution_count": null,
      "outputs": []
    },
    {
      "cell_type": "markdown",
      "source": [
        "#### Model C -  Predicting"
      ],
      "metadata": {
        "id": "vZ3E2w0zTXfP"
      }
    },
    {
      "cell_type": "code",
      "source": [
        "modelC = load_model('/content/drive/My Drive/TFG_models/modelC/')\n",
        "\n",
        "train_pred_C = modelC.predict(X_train).flatten()\n",
        "y_train = y_train.flatten()\n",
        "train_result_C = pd.DataFrame(data={'Predictions':train_pred_C, 'Actuals': y_train} )\n",
        "train_result_C[['Predictions', 'Actuals']] = scaler.inverse_transform(train_result_C[['Predictions', 'Actuals']])\n",
        "train_result_C\n",
        "\n",
        "# Plot the prediction loss\n",
        "plt.plot(df.index[:1940], train_result_C['Predictions'], label='Prediction')\n",
        "plt.plot(df.index[:1940], train_result_C['Actuals'], label='Original')\n",
        "plt.title('[2] Model C -  Prediction plot')\n",
        "plt.xlabel('Time')\n",
        "plt.ylabel('Temperature (C)')\n",
        "plt.legend(loc='best')\n",
        "\n",
        "# Save the figure\n",
        "time = datetime.now().strftime('%d_%H%M')\n",
        "plt.savefig(os.path.join(save_path, f'2_ModelC_Prediction_Plot_{time}.jpeg'))\n",
        "print(f'2 - Model C prediction plot saved!')\n",
        "\n",
        "plt.show()\n",
        "plt.close()"
      ],
      "metadata": {
        "id": "exMwX_2mTXfP"
      },
      "execution_count": null,
      "outputs": []
    },
    {
      "cell_type": "markdown",
      "source": [
        "#### Model C - Evaluating"
      ],
      "metadata": {
        "id": "tKBmQ-sOTXfP"
      }
    },
    {
      "cell_type": "code",
      "source": [
        "scoresB = modelB.evaluate(X_test,y_test)\n",
        "print(scoresB)\n",
        "\n",
        "mseB = mean_squared_error(train_result_B['Actuals'], train_result_B['Predictions'])\n",
        "print(f'Model B Results: \\n Loss: {scoresB} \\n MSE : {mseB}')\n"
      ],
      "metadata": {
        "id": "5xRI0FIATXfP"
      },
      "execution_count": null,
      "outputs": []
    },
    {
      "cell_type": "markdown",
      "source": [
        "### 2.3.4 Saving all results"
      ],
      "metadata": {
        "id": "68nYFVa1FSr5"
      }
    },
    {
      "cell_type": "code",
      "source": [
        "import openpyxl\n",
        "for model_n, model in enumerate([modelA,modelB,modelC], start=1):\n",
        "    if model_n == 1: # A\n",
        "      loss = scoresA\n",
        "      mse = mseA\n",
        "      config=configA\n",
        "    elif model_n == 2: # B\n",
        "      loss = scoresB\n",
        "      mse = mseB\n",
        "      config=configB\n",
        "    elif model_n == 3: # C\n",
        "      loss = scoresC\n",
        "      mse = mseC\n",
        "      config=configC\n",
        "\n",
        "\n",
        "    # Get the model summary as a string\n",
        "    summary = []\n",
        "    model.summary(print_fn=lambda x: summary.append(x))\n",
        "    summary_str = \"\\n\".join(summary)\n",
        "\n",
        "    # Create a DataFrame with the results\n",
        "    time_str = datetime.now().strftime('%Y%m%d%H%M%S')  # Fixed the format to include year and seconds\n",
        "    results_df = pd.DataFrame({\n",
        "        'Model': f\"{model_n}_{time_str}\",\n",
        "        'Summary of the architecture (string)': summary_str,\n",
        "        'learning_rate': config['learning_rate'],\n",
        "        'epoch': config['epochs'],\n",
        "        'batch_size': config['batch_size'],\n",
        "        'Loss': loss,\n",
        "        'MSE': mse\n",
        "    }, index=[0])\n",
        "\n",
        "    file_exists = os.path.isfile(log_path)\n",
        "\n",
        "    # Write the DataFrame to the Excel file\n",
        "    if not file_exists:\n",
        "        with pd.ExcelWriter(log_path, engine='openpyxl') as writer:\n",
        "            results_df.to_excel(writer, index=False)\n",
        "        file_exists = True  # Update the flag so headers are not added again\n",
        "    else:\n",
        "        with pd.ExcelWriter(log_path, mode='a', if_sheet_exists='overlay', engine='openpyxl') as writer:\n",
        "            results_df.to_excel(writer, index=False, header=False, startrow=writer.sheets['Sheet1'].max_row)"
      ],
      "metadata": {
        "id": "Ri2xKBT-FXZc"
      },
      "execution_count": null,
      "outputs": []
    },
    {
      "cell_type": "markdown",
      "source": [
        "## Initial approach"
      ],
      "metadata": {
        "id": "64UWkg2YGgW-"
      }
    },
    {
      "cell_type": "code",
      "source": [
        "def fit_model(model, save_path, text):\n",
        "  print(f'Fiting model{text}...')\n",
        "  # Fit the model\n",
        "  history = model.fit(\n",
        "      X_train_seq,\n",
        "      y_train_seq,\n",
        "      epochs=25,\n",
        "      batch_size=64,\n",
        "      validation_data=(X_test_seq, y_test_seq),\n",
        "      verbose=1\n",
        "  )\n",
        "\n",
        "  # Plot the training and validation loss\n",
        "  plt.plot(history.history['loss'], label='Training Loss')\n",
        "  plt.plot(history.history['val_loss'], label='Validation Loss')\n",
        "  plt.xlabel('Epoch')\n",
        "  plt.ylabel('Loss')\n",
        "  plt.title(f'Model {text} - Loss Plot')\n",
        "  plt.legend(loc='best')\n",
        "  plt.show()\n",
        "  plt.close()\n",
        "\n",
        "  # Ensure the directory exists\n",
        "  os.makedirs(save_path, exist_ok=True)\n",
        "  # Save the figure\n",
        "  time = datetime.now().strftime('%d_%H%M')\n",
        "  plt.savefig(os.path.join(save_path, f'2_Loss_Model{text}_{time}.jpg'))\n",
        "  print(f'Loss plot for model{text} saved!')\n",
        "\n",
        "def predict_plot(model, save_path, text):\n",
        "  print(f'Predicting model{text}...')\n",
        "  # Predict and inverse transform the predictions to get them back to the original scale\n",
        "  y_pred_scaled = model.predict(X_test_seq)\n",
        "  y_pred = scaler_y.inverse_transform(y_pred_scaled)\n",
        "\n",
        "  # Inverse transform the actual test y values for comparison\n",
        "  y_test_actual = scaler_y.inverse_transform(y_test_seq.reshape(-1, 1))\n",
        "\n",
        "  # Calculating the start and end indices for test timestamps\n",
        "  start_idx = X_train.shape[0] + time_steps\n",
        "  end_idx = start_idx + y_test_actual.shape[0]\n",
        "\n",
        "  # Retrieving the relevant timestamps\n",
        "  test_timestamps = df.index[start_idx:end_idx]\n",
        "\n",
        "  results = pd.DataFrame({\n",
        "      'Actual': y_test_actual.flatten(),\n",
        "      'Predicted': y_pred.flatten()\n",
        "  }, index=test_timestamps)\n",
        "\n",
        "  plt.plot(results['Actual'], label='Actual', color='blue')\n",
        "  plt.plot(results['Predicted'], label='Predicted', color='red')\n",
        "  plt.title(f'[2] Model {text} - Actual vs Predicted')\n",
        "  plt.xlabel('Time')\n",
        "  plt.ylabel('Value')\n",
        "  plt.legend()\n",
        "  plt.show()\n",
        "  plt.close()\n",
        "\n",
        "  # Ensure the directory exists\n",
        "  os.makedirs(save_path, exist_ok=True)\n",
        "  # Save the figure\n",
        "  plt.savefig(os.path.join(save_path, f'Prediction_plot_model{text}_{time}.jpg'))\n",
        "  print(f'Predition plot for model{text} saved!')\n",
        "\n",
        "  return y_test_actual, y_pred\n",
        "\n",
        "def performance( y_test_actual, y_pred, text):\n",
        "  # Now you can use y_pred and y_test_actual to calculate performance metrics or analyze your predictions.\n",
        "  print(f'Calculating performance for model{text}... ')\n",
        "  mse = mean_squared_error(y_test_actual, y_pred)\n",
        "  print(f'Model{text} MSE: {mse}')\n",
        "\n",
        "#################################################### END - FUNCTIONS ####################################################\n",
        "\n",
        "# Define the time_steps (look_back)\n",
        "time_steps = 20\n",
        "\n",
        "# Prepare the input X and the output y for the LSTM model\n",
        "X_train_seq, y_train_seq = create_dataset(X_train_scaled, y_train_scaled.flatten(), time_steps)\n",
        "X_test_seq, y_test_seq = create_dataset(X_test_scaled, y_test_scaled.flatten(), time_steps)\n",
        "\n",
        "# Build the LSTM model\n",
        "modelA = Sequential()\n",
        "modelA.add(LSTM(50, activation='relu', input_shape=(X_train_seq.shape[1], X_train_seq.shape[2])))\n",
        "modelA.add(Dense(1))\n",
        "modelA.compile(optimizer=Adam(learning_rate=0.01), loss=MeanSquaredError())\n",
        "\n",
        "####################################################################################################################\n",
        "modelB = Sequential()\n",
        "modelB.add(LSTM(32, activation='relu', input_shape=(X_train_seq.shape[1], X_train_seq.shape[2]), return_sequences=True))\n",
        "modelB.add(BatchNormalization())\n",
        "modelB.add(Dropout(0.2))\n",
        "modelB.add(LSTM(32, activation='relu', return_sequences=False))\n",
        "modelB.add(BatchNormalization())\n",
        "modelB.add(Dropout(0.2))\n",
        "modelB.add(Dense(16, activation='relu'))\n",
        "modelB.add(Dense(1, activation='linear'))\n",
        "modelB.compile(loss=MeanSquaredError(),optimizer=Adam(learning_rate=0.01))\n",
        "\n",
        "####################################################################################################################\n",
        "modelC = Sequential()\n",
        "modelC.add(LSTM(50, activation='tanh', input_shape=(X_train_seq.shape[1], X_train_seq.shape[2]), return_sequences=True))\n",
        "modelC.add(BatchNormalization())\n",
        "modelC.add(Dropout(0.2))\n",
        "modelC.add(LSTM(20, activation='tanh'))\n",
        "modelC.add(BatchNormalization())\n",
        "modelC.add(Dropout(0.2))\n",
        "modelC.add(Dense(1))\n",
        "modelC.compile(loss=MeanSquaredError(),optimizer=Adam(learning_rate=0.005))\n",
        "\n",
        "fit_model(modelA, save_path, 'A')\n",
        "y_test_acual_A, y_pred_A = predict_plot(modelA, save_path, 'A')\n",
        "performance(y_test_acual_A, y_pred_A,'A')\n",
        "\n",
        "\n",
        "fit_model(modelB, save_path, 'B')\n",
        "y_test_acual_B, y_pred_B = predict_plot(modelA, save_path, 'B')\n",
        "performance(y_test_acual_B, y_pred_B,'B')\n",
        "\n",
        "\n",
        "fit_model(modelC, save_path, 'C')\n",
        "y_test_acual_C, y_pred_C = predict_plot(modelA, save_path, 'C')\n",
        "performance(y_test_acual_C, y_pred_C,'C')"
      ],
      "metadata": {
        "id": "_GZFTRRTTXfP"
      },
      "execution_count": null,
      "outputs": []
    }
  ]
}